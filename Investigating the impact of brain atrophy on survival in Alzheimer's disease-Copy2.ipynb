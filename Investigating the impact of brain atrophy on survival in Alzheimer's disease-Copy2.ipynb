{
 "cells": [
  {
   "cell_type": "markdown",
   "id": "578805df",
   "metadata": {},
   "source": [
    "# Investigating the impact of brain atrophy on survival in Alzheimer's disease"
   ]
  },
  {
   "cell_type": "markdown",
   "id": "be90ca8d",
   "metadata": {},
   "source": [
    "&emsp;\n",
    "This notebook is divided into the following topics:\n",
    "1) Predict survival probability using the Kaplan-Meier estimate for controls, patients with LMCI or AD \n",
    "2) Investigate features that impact the survival using the Cox Proportional-Hazards model\n",
    "2) Investigate the cut-off of regional atrophy that determines low versus high survival in patients with AD\n",
    "&emsp;"
   ]
  },
  {
   "cell_type": "markdown",
   "id": "4b38b004",
   "metadata": {},
   "source": [
    "Data used in preparation of this article were obtained from the Alzheimer’s Disease Neuroimaging Initiative\n",
    "(ADNI) database (adni.loni.usc.edu). As such, the investigators within the ADNI contributed to the design\n",
    "and implementation of ADNI and/or provided data but did not participate in analysis or writing of this report.\n",
    "A complete listing of ADNI investigators can be found at:\n",
    "http://adni.loni.usc.edu/wp-content/uploads/how_to_apply/ADNI_Acknowledgement_List.pdf"
   ]
  },
  {
   "cell_type": "markdown",
   "id": "20c059cd",
   "metadata": {},
   "source": [
    "### 1) Predict survival probability using the Kaplan-Meier estimate for controls, patients with LMCI or AD "
   ]
  },
  {
   "cell_type": "code",
   "execution_count": 1,
   "id": "cce6a1a8",
   "metadata": {},
   "outputs": [],
   "source": [
    "import numpy as np\n",
    "import pandas as pd\n",
    "import pandas_profiling\n",
    "import matplotlib.pyplot as plt\n",
    "import os, sys\n",
    "from lifelines import CoxPHFitter\n",
    "from lifelines import KaplanMeierFitter\n",
    "from datetime import datetime\n",
    "%matplotlib inline\n",
    "\n",
    "from sklearn.linear_model import LinearRegression\n",
    "from sklearn.gaussian_process import GaussianProcessRegressor\n",
    "from sklearn.gaussian_process.kernels import RBF, DotProduct, WhiteKernel, ConstantKernel as C\n",
    "from sklearn.preprocessing import StandardScaler"
   ]
  },
  {
   "cell_type": "code",
   "execution_count": 2,
   "id": "a2d0cac7",
   "metadata": {},
   "outputs": [],
   "source": [
    "#Import the dataset\n",
    "ADNIMERGE0=pd.read_csv('ADNIMERGE.csv',low_memory=False)\n",
    "WD_Reason=pd.read_csv('WD_Reason_TREATDIS.csv',low_memory=False)\n",
    "ADNIMERGE1=pd.merge(ADNIMERGE0,WD_Reason,on='RID',how='inner')"
   ]
  },
  {
   "cell_type": "code",
   "execution_count": 3,
   "id": "580faf1d",
   "metadata": {},
   "outputs": [
    {
     "data": {
      "text/plain": [
       "<AxesSubplot:>"
      ]
     },
     "execution_count": 3,
     "metadata": {},
     "output_type": "execute_result"
    },
    {
     "data": {
      "image/png": "[encoded data removed]",
      "text/plain": [
       "<Figure size 432x288 with 1 Axes>"
      ]
     },
     "metadata": {
      "needs_background": "light"
     },
     "output_type": "display_data"
    }
   ],
   "source": [
    "#Check distribution of Age\n",
    "ADNIMERGE1.AGE.hist()"
   ]
  },
  {
   "cell_type": "code",
   "execution_count": null,
   "id": "fd16df20",
   "metadata": {},
   "outputs": [],
   "source": []
  },
  {
   "cell_type": "code",
   "execution_count": 4,
   "id": "e52f6639",
   "metadata": {},
   "outputs": [],
   "source": [
    "#Get list of subjects \n",
    "ADNIMERGE_subjs_list=ADNIMERGE1.PTID.unique()"
   ]
  },
  {
   "cell_type": "code",
   "execution_count": 5,
   "id": "692a5494",
   "metadata": {},
   "outputs": [],
   "source": [
    "#Create a function that gets the max years since baseline indices and translates it to the last entry\n",
    "def get_max_idx(subjs_list,data):\n",
    "    max_idx_bl_years=[]\n",
    "    for subj in subjs_list:\n",
    "        df=data[data['PTID'].isin([f'{subj}'])]\n",
    "        subj_idx_max=df.Years_bl.idxmax()\n",
    "        max_idx_bl_years.append(subj_idx_max)\n",
    "    return max_idx_bl_years"
   ]
  },
  {
   "cell_type": "code",
   "execution_count": 6,
   "id": "9659f200",
   "metadata": {},
   "outputs": [],
   "source": [
    "ADNIMERGE_max_idx_bl_years=get_max_idx(ADNIMERGE_subjs_list,ADNIMERGE1)"
   ]
  },
  {
   "cell_type": "code",
   "execution_count": 7,
   "id": "b95d55e4",
   "metadata": {},
   "outputs": [],
   "source": [
    "#Assign Survival=1 to the max years since baseline or 0 otherwise\n",
    "ADNIMERGE1['Suvival']=0\n",
    "ADNIMERGE1.loc[ADNIMERGE_max_idx_bl_years,'Suvival']=1\n"
   ]
  },
  {
   "cell_type": "code",
   "execution_count": null,
   "id": "e8c97f28",
   "metadata": {},
   "outputs": [],
   "source": []
  },
  {
   "cell_type": "code",
   "execution_count": 8,
   "id": "b8e8d87c",
   "metadata": {},
   "outputs": [],
   "source": [
    "#Check if subject' death is recorded and create new column as 'death'\n",
    "ADNIMERGE_dead_idx=ADNIMERGE1.index[(ADNIMERGE1['Suvival'] == 1) &  (ADNIMERGE1['WDREASON']=='2')].tolist()\n",
    "ADNIMERGE1['death']=0\n",
    "ADNIMERGE1.loc[ADNIMERGE_dead_idx,'death']=1"
   ]
  },
  {
   "cell_type": "code",
   "execution_count": null,
   "id": "e3f61f17",
   "metadata": {},
   "outputs": [],
   "source": []
  },
  {
   "cell_type": "code",
   "execution_count": 10,
   "id": "6b9a2c78",
   "metadata": {},
   "outputs": [
    {
     "data": {
      "text/plain": [
       "(1754, 135)"
      ]
     },
     "execution_count": 10,
     "metadata": {},
     "output_type": "execute_result"
    }
   ],
   "source": [
    "CN_data=ADNIMERGE1[ADNIMERGE1['DX_bl'].isin(['CN'])]\n",
    "CN_data.shape\n",
    "LMCI_data=ADNIMERGE1[ADNIMERGE1['DX_bl'].isin(['LMCI'])]\n",
    "LMCI_data.shape\n",
    "AD_data=ADNIMERGE1[ADNIMERGE1['DX_bl'].isin(['AD'])]\n",
    "AD_data.shape"
   ]
  },
  {
   "cell_type": "code",
   "execution_count": 11,
   "id": "3fc9565e",
   "metadata": {},
   "outputs": [
    {
     "data": {
      "text/plain": [
       "0        CN\n",
       "1        CN\n",
       "2        CN\n",
       "3        CN\n",
       "4        CN\n",
       "         ..\n",
       "13301    CN\n",
       "13302    CN\n",
       "13303    CN\n",
       "13304    CN\n",
       "13305    AD\n",
       "Name: DX_bl, Length: 13306, dtype: object"
      ]
     },
     "execution_count": 11,
     "metadata": {},
     "output_type": "execute_result"
    }
   ],
   "source": [
    "ADNIMERGE1['DX_bl']"
   ]
  },
  {
   "cell_type": "code",
   "execution_count": 12,
   "id": "7647234f",
   "metadata": {},
   "outputs": [
    {
     "name": "stdout",
     "output_type": "stream",
     "text": [
      "(0, 135)\n"
     ]
    },
    {
     "data": {
      "text/plain": [
       "(0, 135)"
      ]
     },
     "execution_count": 12,
     "metadata": {},
     "output_type": "execute_result"
    }
   ],
   "source": [
    "#Check if any CN transform to LMCI or AD\n",
    "CN_to_LMCI=LMCI_data[LMCI_data['PTID'].isin(CN_data['PTID'])]\n",
    "print(CN_to_LMCI.shape)\n",
    "CN_to_AD=AD_data[AD_data['PTID'].isin(CN_data['PTID'])]\n",
    "CN_to_AD.shape"
   ]
  },
  {
   "cell_type": "markdown",
   "id": "4768c150",
   "metadata": {},
   "source": [
    "Shape[0] of CN_to_AD is 0, therefore no controls transform to LMCI or AD"
   ]
  },
  {
   "cell_type": "code",
   "execution_count": 14,
   "id": "15d69e3e",
   "metadata": {},
   "outputs": [
    {
     "data": {
      "text/plain": [
       "<AxesSubplot:xlabel='timeline'>"
      ]
     },
     "execution_count": 14,
     "metadata": {},
     "output_type": "execute_result"
    },
    {
     "data": {
      "image/png": "[encoded data removed]",
      "text/plain": [
       "<Figure size 432x288 with 1 Axes>"
      ]
     },
     "metadata": {
      "needs_background": "light"
     },
     "output_type": "display_data"
    }
   ],
   "source": [
    "#Fit for plotting 'Suvival'\n",
    "km = KaplanMeierFitter() \n",
    "km.fit(CN_data['Years_bl'], CN_data['Suvival'], label='CN survival')\n",
    "a1 = km.plot()\n",
    "\n",
    "km.fit(LMCI_data['Years_bl'], LMCI_data['Suvival'], label='LMCI survival')\n",
    "a2=km.plot(ax=a1)\n",
    "\n",
    "km.fit(AD_data['Years_bl'], AD_data['Suvival'], label='AD survival')\n",
    "km.plot(ax=a2)"
   ]
  },
  {
   "cell_type": "code",
   "execution_count": 15,
   "id": "71e57a28",
   "metadata": {},
   "outputs": [
    {
     "data": {
      "text/plain": [
       "<AxesSubplot:xlabel='timeline'>"
      ]
     },
     "execution_count": 15,
     "metadata": {},
     "output_type": "execute_result"
    },
    {
     "data": {
      "image/png": "[encoded data removed]",
      "text/plain": [
       "<Figure size 432x288 with 1 Axes>"
      ]
     },
     "metadata": {
      "needs_background": "light"
     },
     "output_type": "display_data"
    }
   ],
   "source": [
    "#Fit for plotting 'death'\n",
    "km = KaplanMeierFitter() \n",
    "km.fit(CN_data['Years_bl'], CN_data['death'], label='CN time till death')\n",
    "a1 = km.plot()\n",
    "\n",
    "km.fit(LMCI_data['Years_bl'], LMCI_data['death'], label='LMCI time till death')\n",
    "a2=km.plot(ax=a1)\n",
    "\n",
    "km.fit(AD_data['Years_bl'], AD_data['death'], label='AD time till death')\n",
    "km.plot(ax=a2)"
   ]
  },
  {
   "cell_type": "code",
   "execution_count": 16,
   "id": "6308130e",
   "metadata": {},
   "outputs": [
    {
     "data": {
      "text/plain": [
       "0     0.997031\n",
       "3     0.960709\n",
       "6     0.895334\n",
       "10    0.758956\n",
       "15    0.548505\n",
       "20    0.000000\n",
       "Name: CN survival, dtype: float64"
      ]
     },
     "execution_count": 16,
     "metadata": {},
     "output_type": "execute_result"
    }
   ],
   "source": [
    "#Fit a separate model and predict survival for a range of years\n",
    "#Controls\n",
    "km1 = KaplanMeierFitter() \n",
    "km1.fit(CN_data['Years_bl'], CN_data['Suvival'], label='CN survival')\n",
    "km1.predict([0,3,6,10,15,20])"
   ]
  },
  {
   "cell_type": "code",
   "execution_count": null,
   "id": "f1ff1eb8",
   "metadata": {},
   "outputs": [],
   "source": []
  },
  {
   "cell_type": "code",
   "execution_count": 17,
   "id": "86478793",
   "metadata": {},
   "outputs": [
    {
     "data": {
      "text/plain": [
       "0     0.985747\n",
       "3     0.301217\n",
       "6     0.054627\n",
       "10    0.036418\n",
       "15    0.000000\n",
       "20    0.000000\n",
       "Name: AD survival, dtype: float64"
      ]
     },
     "execution_count": 17,
     "metadata": {},
     "output_type": "execute_result"
    }
   ],
   "source": [
    "#Patients with AD\n",
    "km2 = KaplanMeierFitter() \n",
    "km2.fit(AD_data['Years_bl'], AD_data['Suvival'], label='AD survival')\n",
    "km2.predict([0,3,6,10,15,20])"
   ]
  },
  {
   "cell_type": "code",
   "execution_count": null,
   "id": "2be1c3cd",
   "metadata": {},
   "outputs": [],
   "source": []
  },
  {
   "cell_type": "markdown",
   "id": "41903756",
   "metadata": {},
   "source": [
    "### 2) Investigate features that impact the survival using the Cox Proportional-Hazards model"
   ]
  },
  {
   "cell_type": "code",
   "execution_count": 18,
   "id": "b8ad0497",
   "metadata": {},
   "outputs": [
    {
     "name": "stderr",
     "output_type": "stream",
     "text": [
      "/Library/Frameworks/Python.framework/Versions/3.9/lib/python3.9/site-packages/lifelines/utils/__init__.py:1122: ConvergenceWarning: Column Suvival have very low variance when conditioned on death event present or not. This may harm convergence. This could be a form of 'complete separation'. For example, try the following code:\n",
      "\n",
      ">>> events = df['death'].astype(bool)\n",
      ">>> print(df.loc[events, 'Suvival'].var())\n",
      ">>> print(df.loc[~events, 'Suvival'].var())\n",
      "\n",
      "A very low variance means that the column Suvival completely determines whether a subject dies or not. See https://stats.stackexchange.com/questions/11109/how-to-deal-with-perfect-separation-in-logistic-regression.\n",
      "\n",
      "  warnings.warn(dedent(warning_text), ConvergenceWarning)\n",
      "/Library/Frameworks/Python.framework/Versions/3.9/lib/python3.9/site-packages/lifelines/fitters/coxph_fitter.py:1604: ConvergenceWarning: Newton-Rhaphson convergence completed successfully but norm(delta) is still high, 0.342. This may imply non-unique solutions to the maximum likelihood. Perhaps there is collinearity or complete separation in the dataset?\n",
      "\n",
      "  warnings.warn(\n"
     ]
    },
    {
     "data": {
      "text/html": [
       "<div>\n",
       "<style scoped>\n",
       "    .dataframe tbody tr th:only-of-type {\n",
       "        vertical-align: middle;\n",
       "    }\n",
       "\n",
       "    .dataframe tbody tr th {\n",
       "        vertical-align: top;\n",
       "    }\n",
       "\n",
       "    .dataframe thead th {\n",
       "        text-align: right;\n",
       "    }\n",
       "</style>\n",
       "<table border=\"1\" class=\"dataframe\">\n",
       "  <tbody>\n",
       "    <tr>\n",
       "      <th>model</th>\n",
       "      <td>lifelines.CoxPHFitter</td>\n",
       "    </tr>\n",
       "    <tr>\n",
       "      <th>duration col</th>\n",
       "      <td>'Years_bl'</td>\n",
       "    </tr>\n",
       "    <tr>\n",
       "      <th>event col</th>\n",
       "      <td>'death'</td>\n",
       "    </tr>\n",
       "    <tr>\n",
       "      <th>baseline estimation</th>\n",
       "      <td>breslow</td>\n",
       "    </tr>\n",
       "    <tr>\n",
       "      <th>number of observations</th>\n",
       "      <td>879</td>\n",
       "    </tr>\n",
       "    <tr>\n",
       "      <th>number of events observed</th>\n",
       "      <td>8</td>\n",
       "    </tr>\n",
       "    <tr>\n",
       "      <th>partial log-likelihood</th>\n",
       "      <td>-30.91</td>\n",
       "    </tr>\n",
       "    <tr>\n",
       "      <th>time fit was run</th>\n",
       "      <td>2023-03-10 16:31:20 UTC</td>\n",
       "    </tr>\n",
       "  </tbody>\n",
       "</table>\n",
       "</div><table border=\"1\" class=\"dataframe\">\n",
       "  <thead>\n",
       "    <tr style=\"text-align: right;\">\n",
       "      <th style=\"min-width: 12px;\"></th>\n",
       "      <th style=\"min-width: 12px;\">coef</th>\n",
       "      <th style=\"min-width: 12px;\">exp(coef)</th>\n",
       "      <th style=\"min-width: 12px;\">se(coef)</th>\n",
       "      <th style=\"min-width: 12px;\">coef lower 95%</th>\n",
       "      <th style=\"min-width: 12px;\">coef upper 95%</th>\n",
       "      <th style=\"min-width: 12px;\">exp(coef) lower 95%</th>\n",
       "      <th style=\"min-width: 12px;\">exp(coef) upper 95%</th>\n",
       "      <th style=\"min-width: 12px;\">cmp to</th>\n",
       "      <th style=\"min-width: 12px;\">z</th>\n",
       "      <th style=\"min-width: 12px;\">p</th>\n",
       "      <th style=\"min-width: 12px;\">-log2(p)</th>\n",
       "    </tr>\n",
       "  </thead>\n",
       "  <tbody>\n",
       "    <tr>\n",
       "      <th>APOE4</th>\n",
       "      <td>-0.65</td>\n",
       "      <td>0.52</td>\n",
       "      <td>0.67</td>\n",
       "      <td>-1.96</td>\n",
       "      <td>0.66</td>\n",
       "      <td>0.14</td>\n",
       "      <td>1.94</td>\n",
       "      <td>0.00</td>\n",
       "      <td>-0.97</td>\n",
       "      <td>0.33</td>\n",
       "      <td>1.58</td>\n",
       "    </tr>\n",
       "    <tr>\n",
       "      <th>Ventricles</th>\n",
       "      <td>0.00</td>\n",
       "      <td>1.00</td>\n",
       "      <td>0.00</td>\n",
       "      <td>-0.00</td>\n",
       "      <td>0.00</td>\n",
       "      <td>1.00</td>\n",
       "      <td>1.00</td>\n",
       "      <td>0.00</td>\n",
       "      <td>0.96</td>\n",
       "      <td>0.34</td>\n",
       "      <td>1.57</td>\n",
       "    </tr>\n",
       "    <tr>\n",
       "      <th>Hippocampus</th>\n",
       "      <td>0.00</td>\n",
       "      <td>1.00</td>\n",
       "      <td>0.00</td>\n",
       "      <td>-0.00</td>\n",
       "      <td>0.00</td>\n",
       "      <td>1.00</td>\n",
       "      <td>1.00</td>\n",
       "      <td>0.00</td>\n",
       "      <td>0.89</td>\n",
       "      <td>0.37</td>\n",
       "      <td>1.43</td>\n",
       "    </tr>\n",
       "    <tr>\n",
       "      <th>WholeBrain</th>\n",
       "      <td>0.00</td>\n",
       "      <td>1.00</td>\n",
       "      <td>0.00</td>\n",
       "      <td>-0.00</td>\n",
       "      <td>0.00</td>\n",
       "      <td>1.00</td>\n",
       "      <td>1.00</td>\n",
       "      <td>0.00</td>\n",
       "      <td>1.51</td>\n",
       "      <td>0.13</td>\n",
       "      <td>2.93</td>\n",
       "    </tr>\n",
       "    <tr>\n",
       "      <th>Entorhinal</th>\n",
       "      <td>-0.00</td>\n",
       "      <td>1.00</td>\n",
       "      <td>0.00</td>\n",
       "      <td>-0.00</td>\n",
       "      <td>0.00</td>\n",
       "      <td>1.00</td>\n",
       "      <td>1.00</td>\n",
       "      <td>0.00</td>\n",
       "      <td>-0.27</td>\n",
       "      <td>0.78</td>\n",
       "      <td>0.35</td>\n",
       "    </tr>\n",
       "    <tr>\n",
       "      <th>Fusiform</th>\n",
       "      <td>0.00</td>\n",
       "      <td>1.00</td>\n",
       "      <td>0.00</td>\n",
       "      <td>-0.00</td>\n",
       "      <td>0.00</td>\n",
       "      <td>1.00</td>\n",
       "      <td>1.00</td>\n",
       "      <td>0.00</td>\n",
       "      <td>1.80</td>\n",
       "      <td>0.07</td>\n",
       "      <td>3.79</td>\n",
       "    </tr>\n",
       "    <tr>\n",
       "      <th>MidTemp</th>\n",
       "      <td>-0.00</td>\n",
       "      <td>1.00</td>\n",
       "      <td>0.00</td>\n",
       "      <td>-0.00</td>\n",
       "      <td>0.00</td>\n",
       "      <td>1.00</td>\n",
       "      <td>1.00</td>\n",
       "      <td>0.00</td>\n",
       "      <td>-1.65</td>\n",
       "      <td>0.10</td>\n",
       "      <td>3.32</td>\n",
       "    </tr>\n",
       "    <tr>\n",
       "      <th>Suvival</th>\n",
       "      <td>19.46</td>\n",
       "      <td>2.82e+08</td>\n",
       "      <td>2331.82</td>\n",
       "      <td>-4550.83</td>\n",
       "      <td>4589.75</td>\n",
       "      <td>0.00</td>\n",
       "      <td>inf</td>\n",
       "      <td>0.00</td>\n",
       "      <td>0.01</td>\n",
       "      <td>0.99</td>\n",
       "      <td>0.01</td>\n",
       "    </tr>\n",
       "    <tr>\n",
       "      <th>AGE</th>\n",
       "      <td>0.03</td>\n",
       "      <td>1.03</td>\n",
       "      <td>0.06</td>\n",
       "      <td>-0.08</td>\n",
       "      <td>0.14</td>\n",
       "      <td>0.92</td>\n",
       "      <td>1.15</td>\n",
       "      <td>0.00</td>\n",
       "      <td>0.49</td>\n",
       "      <td>0.62</td>\n",
       "      <td>0.69</td>\n",
       "    </tr>\n",
       "    <tr>\n",
       "      <th>ICV</th>\n",
       "      <td>-0.00</td>\n",
       "      <td>1.00</td>\n",
       "      <td>0.00</td>\n",
       "      <td>-0.00</td>\n",
       "      <td>-0.00</td>\n",
       "      <td>1.00</td>\n",
       "      <td>1.00</td>\n",
       "      <td>0.00</td>\n",
       "      <td>-2.16</td>\n",
       "      <td>0.03</td>\n",
       "      <td>5.04</td>\n",
       "    </tr>\n",
       "  </tbody>\n",
       "</table><br><div>\n",
       "<style scoped>\n",
       "    .dataframe tbody tr th:only-of-type {\n",
       "        vertical-align: middle;\n",
       "    }\n",
       "\n",
       "    .dataframe tbody tr th {\n",
       "        vertical-align: top;\n",
       "    }\n",
       "\n",
       "    .dataframe thead th {\n",
       "        text-align: right;\n",
       "    }\n",
       "</style>\n",
       "<table border=\"1\" class=\"dataframe\">\n",
       "  <tbody>\n",
       "    <tr>\n",
       "      <th>Concordance</th>\n",
       "      <td>0.96</td>\n",
       "    </tr>\n",
       "    <tr>\n",
       "      <th>Partial AIC</th>\n",
       "      <td>81.82</td>\n",
       "    </tr>\n",
       "    <tr>\n",
       "      <th>log-likelihood ratio test</th>\n",
       "      <td>34.00 on 10 df</td>\n",
       "    </tr>\n",
       "    <tr>\n",
       "      <th>-log2(p) of ll-ratio test</th>\n",
       "      <td>12.40</td>\n",
       "    </tr>\n",
       "  </tbody>\n",
       "</table>\n",
       "</div>"
      ],
      "text/latex": [
       "\\begin{tabular}{lrrrrrrrrrrr}\n",
       " & coef & exp(coef) & se(coef) & coef lower 95% & coef upper 95% & exp(coef) lower 95% & exp(coef) upper 95% & cmp to & z & p & -log2(p) \\\\\n",
       "covariate &  &  &  &  &  &  &  &  &  &  &  \\\\\n",
       "APOE4 & -0.65 & 0.52 & 0.67 & -1.96 & 0.66 & 0.14 & 1.94 & 0.00 & -0.97 & 0.33 & 1.58 \\\\\n",
       "Ventricles & 0.00 & 1.00 & 0.00 & -0.00 & 0.00 & 1.00 & 1.00 & 0.00 & 0.96 & 0.34 & 1.57 \\\\\n",
       "Hippocampus & 0.00 & 1.00 & 0.00 & -0.00 & 0.00 & 1.00 & 1.00 & 0.00 & 0.89 & 0.37 & 1.43 \\\\\n",
       "WholeBrain & 0.00 & 1.00 & 0.00 & -0.00 & 0.00 & 1.00 & 1.00 & 0.00 & 1.51 & 0.13 & 2.93 \\\\\n",
       "Entorhinal & -0.00 & 1.00 & 0.00 & -0.00 & 0.00 & 1.00 & 1.00 & 0.00 & -0.27 & 0.78 & 0.35 \\\\\n",
       "Fusiform & 0.00 & 1.00 & 0.00 & -0.00 & 0.00 & 1.00 & 1.00 & 0.00 & 1.80 & 0.07 & 3.79 \\\\\n",
       "MidTemp & -0.00 & 1.00 & 0.00 & -0.00 & 0.00 & 1.00 & 1.00 & 0.00 & -1.65 & 0.10 & 3.32 \\\\\n",
       "Suvival & 19.46 & 281656315.97 & 2331.82 & -4550.83 & 4589.75 & 0.00 & inf & 0.00 & 0.01 & 0.99 & 0.01 \\\\\n",
       "AGE & 0.03 & 1.03 & 0.06 & -0.08 & 0.14 & 0.92 & 1.15 & 0.00 & 0.49 & 0.62 & 0.69 \\\\\n",
       "ICV & -0.00 & 1.00 & 0.00 & -0.00 & -0.00 & 1.00 & 1.00 & 0.00 & -2.16 & 0.03 & 5.04 \\\\\n",
       "\\end{tabular}\n"
      ],
      "text/plain": [
       "<lifelines.CoxPHFitter: fitted with 879 total observations, 871 right-censored observations>\n",
       "             duration col = 'Years_bl'\n",
       "                event col = 'death'\n",
       "      baseline estimation = breslow\n",
       "   number of observations = 879\n",
       "number of events observed = 8\n",
       "   partial log-likelihood = -30.91\n",
       "         time fit was run = 2023-03-10 16:31:20 UTC\n",
       "\n",
       "---\n",
       "              coef  exp(coef)   se(coef)   coef lower 95%   coef upper 95%  exp(coef) lower 95%  exp(coef) upper 95%\n",
       "covariate                                                                                                           \n",
       "APOE4        -0.65       0.52       0.67            -1.96             0.66                 0.14                 1.94\n",
       "Ventricles    0.00       1.00       0.00            -0.00             0.00                 1.00                 1.00\n",
       "Hippocampus   0.00       1.00       0.00            -0.00             0.00                 1.00                 1.00\n",
       "WholeBrain    0.00       1.00       0.00            -0.00             0.00                 1.00                 1.00\n",
       "Entorhinal   -0.00       1.00       0.00            -0.00             0.00                 1.00                 1.00\n",
       "Fusiform      0.00       1.00       0.00            -0.00             0.00                 1.00                 1.00\n",
       "MidTemp      -0.00       1.00       0.00            -0.00             0.00                 1.00                 1.00\n",
       "Suvival      19.46   2.82e+08    2331.82         -4550.83          4589.75                 0.00                  inf\n",
       "AGE           0.03       1.03       0.06            -0.08             0.14                 0.92                 1.15\n",
       "ICV          -0.00       1.00       0.00            -0.00            -0.00                 1.00                 1.00\n",
       "\n",
       "              cmp to     z    p   -log2(p)\n",
       "covariate                                 \n",
       "APOE4           0.00 -0.97 0.33       1.58\n",
       "Ventricles      0.00  0.96 0.34       1.57\n",
       "Hippocampus     0.00  0.89 0.37       1.43\n",
       "WholeBrain      0.00  1.51 0.13       2.93\n",
       "Entorhinal      0.00 -0.27 0.78       0.35\n",
       "Fusiform        0.00  1.80 0.07       3.79\n",
       "MidTemp         0.00 -1.65 0.10       3.32\n",
       "Suvival         0.00  0.01 0.99       0.01\n",
       "AGE             0.00  0.49 0.62       0.69\n",
       "ICV             0.00 -2.16 0.03       5.04\n",
       "---\n",
       "Concordance = 0.96\n",
       "Partial AIC = 81.82\n",
       "log-likelihood ratio test = 34.00 on 10 df\n",
       "-log2(p) of ll-ratio test = 12.40"
      ]
     },
     "metadata": {},
     "output_type": "display_data"
    }
   ],
   "source": [
    "from lifelines import CoxPHFitter\n",
    "data_cox_hz=AD_data[['APOE4','Ventricles','Hippocampus','WholeBrain','Entorhinal','Fusiform','MidTemp','Years_bl','Suvival','AGE','ICV','death']]\n",
    "data_cox_hz=data_cox_hz.dropna()\n",
    "cph=CoxPHFitter()\n",
    "cph.fit(data_cox_hz,'Years_bl',event_col='death')\n",
    "cph.print_summary()"
   ]
  },
  {
   "cell_type": "code",
   "execution_count": 19,
   "id": "1a97bff5",
   "metadata": {},
   "outputs": [],
   "source": [
    "#In summary, check which features impact the survival from the p-values"
   ]
  },
  {
   "cell_type": "code",
   "execution_count": 20,
   "id": "8905b356",
   "metadata": {},
   "outputs": [
    {
     "data": {
      "text/plain": [
       "0    760\n",
       "1    119\n",
       "Name: Suvival, dtype: int64"
      ]
     },
     "execution_count": 20,
     "metadata": {},
     "output_type": "execute_result"
    }
   ],
   "source": [
    "data_cox_hz.Suvival.value_counts()"
   ]
  },
  {
   "cell_type": "code",
   "execution_count": 21,
   "id": "7bf5b530",
   "metadata": {},
   "outputs": [
    {
     "data": {
      "text/html": [
       "<div>\n",
       "<style scoped>\n",
       "    .dataframe tbody tr th:only-of-type {\n",
       "        vertical-align: middle;\n",
       "    }\n",
       "\n",
       "    .dataframe tbody tr th {\n",
       "        vertical-align: top;\n",
       "    }\n",
       "\n",
       "    .dataframe thead th {\n",
       "        text-align: right;\n",
       "    }\n",
       "</style>\n",
       "<table border=\"1\" class=\"dataframe\">\n",
       "  <tbody>\n",
       "    <tr>\n",
       "      <th>model</th>\n",
       "      <td>lifelines.CoxPHFitter</td>\n",
       "    </tr>\n",
       "    <tr>\n",
       "      <th>duration col</th>\n",
       "      <td>'Years_bl'</td>\n",
       "    </tr>\n",
       "    <tr>\n",
       "      <th>event col</th>\n",
       "      <td>'Suvival'</td>\n",
       "    </tr>\n",
       "    <tr>\n",
       "      <th>penalizer</th>\n",
       "      <td>0.1</td>\n",
       "    </tr>\n",
       "    <tr>\n",
       "      <th>l1 ratio</th>\n",
       "      <td>0.0</td>\n",
       "    </tr>\n",
       "    <tr>\n",
       "      <th>baseline estimation</th>\n",
       "      <td>breslow</td>\n",
       "    </tr>\n",
       "    <tr>\n",
       "      <th>number of observations</th>\n",
       "      <td>879</td>\n",
       "    </tr>\n",
       "    <tr>\n",
       "      <th>number of events observed</th>\n",
       "      <td>119</td>\n",
       "    </tr>\n",
       "    <tr>\n",
       "      <th>partial log-likelihood</th>\n",
       "      <td>-512.58</td>\n",
       "    </tr>\n",
       "    <tr>\n",
       "      <th>time fit was run</th>\n",
       "      <td>2023-03-10 16:31:23 UTC</td>\n",
       "    </tr>\n",
       "  </tbody>\n",
       "</table>\n",
       "</div><table border=\"1\" class=\"dataframe\">\n",
       "  <thead>\n",
       "    <tr style=\"text-align: right;\">\n",
       "      <th style=\"min-width: 12px;\"></th>\n",
       "      <th style=\"min-width: 12px;\">coef</th>\n",
       "      <th style=\"min-width: 12px;\">exp(coef)</th>\n",
       "      <th style=\"min-width: 12px;\">se(coef)</th>\n",
       "      <th style=\"min-width: 12px;\">coef lower 95%</th>\n",
       "      <th style=\"min-width: 12px;\">coef upper 95%</th>\n",
       "      <th style=\"min-width: 12px;\">exp(coef) lower 95%</th>\n",
       "      <th style=\"min-width: 12px;\">exp(coef) upper 95%</th>\n",
       "      <th style=\"min-width: 12px;\">cmp to</th>\n",
       "      <th style=\"min-width: 12px;\">z</th>\n",
       "      <th style=\"min-width: 12px;\">p</th>\n",
       "      <th style=\"min-width: 12px;\">-log2(p)</th>\n",
       "    </tr>\n",
       "  </thead>\n",
       "  <tbody>\n",
       "    <tr>\n",
       "      <th>APOE4</th>\n",
       "      <td>0.09</td>\n",
       "      <td>1.09</td>\n",
       "      <td>0.10</td>\n",
       "      <td>-0.12</td>\n",
       "      <td>0.29</td>\n",
       "      <td>0.89</td>\n",
       "      <td>1.33</td>\n",
       "      <td>0.00</td>\n",
       "      <td>0.83</td>\n",
       "      <td>0.41</td>\n",
       "      <td>1.30</td>\n",
       "    </tr>\n",
       "    <tr>\n",
       "      <th>Ventricles</th>\n",
       "      <td>-0.00</td>\n",
       "      <td>1.00</td>\n",
       "      <td>0.00</td>\n",
       "      <td>-0.00</td>\n",
       "      <td>0.00</td>\n",
       "      <td>1.00</td>\n",
       "      <td>1.00</td>\n",
       "      <td>0.00</td>\n",
       "      <td>-0.42</td>\n",
       "      <td>0.67</td>\n",
       "      <td>0.57</td>\n",
       "    </tr>\n",
       "    <tr>\n",
       "      <th>Hippocampus</th>\n",
       "      <td>0.00</td>\n",
       "      <td>1.00</td>\n",
       "      <td>0.00</td>\n",
       "      <td>-0.00</td>\n",
       "      <td>0.00</td>\n",
       "      <td>1.00</td>\n",
       "      <td>1.00</td>\n",
       "      <td>0.00</td>\n",
       "      <td>1.01</td>\n",
       "      <td>0.31</td>\n",
       "      <td>1.68</td>\n",
       "    </tr>\n",
       "    <tr>\n",
       "      <th>WholeBrain</th>\n",
       "      <td>0.00</td>\n",
       "      <td>1.00</td>\n",
       "      <td>0.00</td>\n",
       "      <td>-0.00</td>\n",
       "      <td>0.00</td>\n",
       "      <td>1.00</td>\n",
       "      <td>1.00</td>\n",
       "      <td>0.00</td>\n",
       "      <td>0.64</td>\n",
       "      <td>0.52</td>\n",
       "      <td>0.93</td>\n",
       "    </tr>\n",
       "    <tr>\n",
       "      <th>Entorhinal</th>\n",
       "      <td>0.00</td>\n",
       "      <td>1.00</td>\n",
       "      <td>0.00</td>\n",
       "      <td>-0.00</td>\n",
       "      <td>0.00</td>\n",
       "      <td>1.00</td>\n",
       "      <td>1.00</td>\n",
       "      <td>0.00</td>\n",
       "      <td>0.94</td>\n",
       "      <td>0.35</td>\n",
       "      <td>1.53</td>\n",
       "    </tr>\n",
       "    <tr>\n",
       "      <th>Fusiform</th>\n",
       "      <td>-0.00</td>\n",
       "      <td>1.00</td>\n",
       "      <td>0.00</td>\n",
       "      <td>-0.00</td>\n",
       "      <td>0.00</td>\n",
       "      <td>1.00</td>\n",
       "      <td>1.00</td>\n",
       "      <td>0.00</td>\n",
       "      <td>-0.04</td>\n",
       "      <td>0.97</td>\n",
       "      <td>0.04</td>\n",
       "    </tr>\n",
       "    <tr>\n",
       "      <th>MidTemp</th>\n",
       "      <td>0.00</td>\n",
       "      <td>1.00</td>\n",
       "      <td>0.00</td>\n",
       "      <td>-0.00</td>\n",
       "      <td>0.00</td>\n",
       "      <td>1.00</td>\n",
       "      <td>1.00</td>\n",
       "      <td>0.00</td>\n",
       "      <td>0.08</td>\n",
       "      <td>0.94</td>\n",
       "      <td>0.09</td>\n",
       "    </tr>\n",
       "    <tr>\n",
       "      <th>AGE</th>\n",
       "      <td>-0.01</td>\n",
       "      <td>0.99</td>\n",
       "      <td>0.01</td>\n",
       "      <td>-0.02</td>\n",
       "      <td>0.01</td>\n",
       "      <td>0.98</td>\n",
       "      <td>1.01</td>\n",
       "      <td>0.00</td>\n",
       "      <td>-0.56</td>\n",
       "      <td>0.58</td>\n",
       "      <td>0.80</td>\n",
       "    </tr>\n",
       "    <tr>\n",
       "      <th>ICV</th>\n",
       "      <td>-0.00</td>\n",
       "      <td>1.00</td>\n",
       "      <td>0.00</td>\n",
       "      <td>-0.00</td>\n",
       "      <td>0.00</td>\n",
       "      <td>1.00</td>\n",
       "      <td>1.00</td>\n",
       "      <td>0.00</td>\n",
       "      <td>-0.89</td>\n",
       "      <td>0.38</td>\n",
       "      <td>1.41</td>\n",
       "    </tr>\n",
       "    <tr>\n",
       "      <th>death</th>\n",
       "      <td>2.82</td>\n",
       "      <td>16.73</td>\n",
       "      <td>0.43</td>\n",
       "      <td>1.98</td>\n",
       "      <td>3.65</td>\n",
       "      <td>7.27</td>\n",
       "      <td>38.55</td>\n",
       "      <td>0.00</td>\n",
       "      <td>6.62</td>\n",
       "      <td>&lt;0.005</td>\n",
       "      <td>34.68</td>\n",
       "    </tr>\n",
       "  </tbody>\n",
       "</table><br><div>\n",
       "<style scoped>\n",
       "    .dataframe tbody tr th:only-of-type {\n",
       "        vertical-align: middle;\n",
       "    }\n",
       "\n",
       "    .dataframe tbody tr th {\n",
       "        vertical-align: top;\n",
       "    }\n",
       "\n",
       "    .dataframe thead th {\n",
       "        text-align: right;\n",
       "    }\n",
       "</style>\n",
       "<table border=\"1\" class=\"dataframe\">\n",
       "  <tbody>\n",
       "    <tr>\n",
       "      <th>Concordance</th>\n",
       "      <td>0.71</td>\n",
       "    </tr>\n",
       "    <tr>\n",
       "      <th>Partial AIC</th>\n",
       "      <td>1045.16</td>\n",
       "    </tr>\n",
       "    <tr>\n",
       "      <th>log-likelihood ratio test</th>\n",
       "      <td>34.82 on 10 df</td>\n",
       "    </tr>\n",
       "    <tr>\n",
       "      <th>-log2(p) of ll-ratio test</th>\n",
       "      <td>12.87</td>\n",
       "    </tr>\n",
       "  </tbody>\n",
       "</table>\n",
       "</div>"
      ],
      "text/latex": [
       "\\begin{tabular}{lrrrrrrrrrrr}\n",
       " & coef & exp(coef) & se(coef) & coef lower 95% & coef upper 95% & exp(coef) lower 95% & exp(coef) upper 95% & cmp to & z & p & -log2(p) \\\\\n",
       "covariate &  &  &  &  &  &  &  &  &  &  &  \\\\\n",
       "APOE4 & 0.09 & 1.09 & 0.10 & -0.12 & 0.29 & 0.89 & 1.33 & 0.00 & 0.83 & 0.41 & 1.30 \\\\\n",
       "Ventricles & -0.00 & 1.00 & 0.00 & -0.00 & 0.00 & 1.00 & 1.00 & 0.00 & -0.42 & 0.67 & 0.57 \\\\\n",
       "Hippocampus & 0.00 & 1.00 & 0.00 & -0.00 & 0.00 & 1.00 & 1.00 & 0.00 & 1.01 & 0.31 & 1.68 \\\\\n",
       "WholeBrain & 0.00 & 1.00 & 0.00 & -0.00 & 0.00 & 1.00 & 1.00 & 0.00 & 0.64 & 0.52 & 0.93 \\\\\n",
       "Entorhinal & 0.00 & 1.00 & 0.00 & -0.00 & 0.00 & 1.00 & 1.00 & 0.00 & 0.94 & 0.35 & 1.53 \\\\\n",
       "Fusiform & -0.00 & 1.00 & 0.00 & -0.00 & 0.00 & 1.00 & 1.00 & 0.00 & -0.04 & 0.97 & 0.04 \\\\\n",
       "MidTemp & 0.00 & 1.00 & 0.00 & -0.00 & 0.00 & 1.00 & 1.00 & 0.00 & 0.08 & 0.94 & 0.09 \\\\\n",
       "AGE & -0.01 & 0.99 & 0.01 & -0.02 & 0.01 & 0.98 & 1.01 & 0.00 & -0.56 & 0.58 & 0.80 \\\\\n",
       "ICV & -0.00 & 1.00 & 0.00 & -0.00 & 0.00 & 1.00 & 1.00 & 0.00 & -0.89 & 0.38 & 1.41 \\\\\n",
       "death & 2.82 & 16.73 & 0.43 & 1.98 & 3.65 & 7.27 & 38.55 & 0.00 & 6.62 & 0.00 & 34.68 \\\\\n",
       "\\end{tabular}\n"
      ],
      "text/plain": [
       "<lifelines.CoxPHFitter: fitted with 879 total observations, 760 right-censored observations>\n",
       "             duration col = 'Years_bl'\n",
       "                event col = 'Suvival'\n",
       "                penalizer = 0.1\n",
       "                 l1 ratio = 0.0\n",
       "      baseline estimation = breslow\n",
       "   number of observations = 879\n",
       "number of events observed = 119\n",
       "   partial log-likelihood = -512.58\n",
       "         time fit was run = 2023-03-10 16:31:23 UTC\n",
       "\n",
       "---\n",
       "              coef  exp(coef)   se(coef)   coef lower 95%   coef upper 95%  exp(coef) lower 95%  exp(coef) upper 95%\n",
       "covariate                                                                                                           \n",
       "APOE4         0.09       1.09       0.10            -0.12             0.29                 0.89                 1.33\n",
       "Ventricles   -0.00       1.00       0.00            -0.00             0.00                 1.00                 1.00\n",
       "Hippocampus   0.00       1.00       0.00            -0.00             0.00                 1.00                 1.00\n",
       "WholeBrain    0.00       1.00       0.00            -0.00             0.00                 1.00                 1.00\n",
       "Entorhinal    0.00       1.00       0.00            -0.00             0.00                 1.00                 1.00\n",
       "Fusiform     -0.00       1.00       0.00            -0.00             0.00                 1.00                 1.00\n",
       "MidTemp       0.00       1.00       0.00            -0.00             0.00                 1.00                 1.00\n",
       "AGE          -0.01       0.99       0.01            -0.02             0.01                 0.98                 1.01\n",
       "ICV          -0.00       1.00       0.00            -0.00             0.00                 1.00                 1.00\n",
       "death         2.82      16.73       0.43             1.98             3.65                 7.27                38.55\n",
       "\n",
       "              cmp to     z      p   -log2(p)\n",
       "covariate                                   \n",
       "APOE4           0.00  0.83   0.41       1.30\n",
       "Ventricles      0.00 -0.42   0.67       0.57\n",
       "Hippocampus     0.00  1.01   0.31       1.68\n",
       "WholeBrain      0.00  0.64   0.52       0.93\n",
       "Entorhinal      0.00  0.94   0.35       1.53\n",
       "Fusiform        0.00 -0.04   0.97       0.04\n",
       "MidTemp         0.00  0.08   0.94       0.09\n",
       "AGE             0.00 -0.56   0.58       0.80\n",
       "ICV             0.00 -0.89   0.38       1.41\n",
       "death           0.00  6.62 <0.005      34.68\n",
       "---\n",
       "Concordance = 0.71\n",
       "Partial AIC = 1045.16\n",
       "log-likelihood ratio test = 34.82 on 10 df\n",
       "-log2(p) of ll-ratio test = 12.87"
      ]
     },
     "metadata": {},
     "output_type": "display_data"
    }
   ],
   "source": [
    "data_cox_hz=AD_data[['APOE4','Ventricles','Hippocampus','WholeBrain','Entorhinal','Fusiform','MidTemp','Years_bl','Suvival','AGE','ICV','death']]\n",
    "data_cox_hz=data_cox_hz.dropna()\n",
    "cph=CoxPHFitter(penalizer=0.1)\n",
    "cph.fit(data_cox_hz,'Years_bl',event_col='Suvival')\n",
    "cph.print_summary()"
   ]
  },
  {
   "cell_type": "markdown",
   "id": "0b4eae7f",
   "metadata": {},
   "source": [
    "### 3) Investigate the cut-off of regional atrophy that determines low versus high survival in patients with AD  "
   ]
  },
  {
   "cell_type": "code",
   "execution_count": 22,
   "id": "698c57e5",
   "metadata": {},
   "outputs": [],
   "source": [
    "#Define function to regress covariates from regions of interest \n",
    "from sklearn import linear_model\n",
    "\n",
    "def regressOut(y, X, use_fit=None):\n",
    "    lm = linear_model.LinearRegression()    \n",
    "    if use_fit is None:\n",
    "        use_fit = [True] * X.shape[0]\n",
    "    else:\n",
    "        use_fit = use_fit.values\n",
    "\n",
    "    x_mean = X.iloc[use_fit,:].mean()\n",
    "    lm.fit(X.loc[use_fit,:].values, y.loc[use_fit])\n",
    "    yhat = lm.predict(X.values)\n",
    "    #residual\n",
    "    res = y - yhat\n",
    "\n",
    "    offset = lm.predict(x_mean.values.reshape(1, -1))\n",
    "\n",
    "    return(res + offset)\n"
   ]
  },
  {
   "cell_type": "code",
   "execution_count": 23,
   "id": "0bc92c87",
   "metadata": {},
   "outputs": [],
   "source": [
    "#Duplicate the original df\n",
    "ADNIMERGE2=ADNIMERGE1[['Years_bl','Suvival','AGE','ICV','Ventricles','Hippocampus','WholeBrain','Entorhinal','Fusiform','MidTemp','death','DX_bl']]\n",
    "ADNIMERGE2=ADNIMERGE2.dropna()"
   ]
  },
  {
   "cell_type": "code",
   "execution_count": 24,
   "id": "3129c112",
   "metadata": {},
   "outputs": [],
   "source": [
    "#Define covs\n",
    "covars = ['AGE','ICV']\n",
    "Xlin = ADNIMERGE2.loc[:,covars]\n",
    "use_fit = (ADNIMERGE2.DX_bl=='CN')"
   ]
  },
  {
   "cell_type": "code",
   "execution_count": 35,
   "id": "851b4895",
   "metadata": {},
   "outputs": [
    {
     "name": "stderr",
     "output_type": "stream",
     "text": [
      "/var/folders/wy/6tng9d3d0j1dm7v45z4ylz880000gn/T/ipykernel_18009/2719110659.py:6: SettingWithCopyWarning: \n",
      "A value is trying to be set on a copy of a slice from a DataFrame.\n",
      "Try using .loc[row_indexer,col_indexer] = value instead\n",
      "\n",
      "See the caveats in the documentation: https://pandas.pydata.org/pandas-docs/stable/user_guide/indexing.html#returning-a-view-versus-a-copy\n",
      "  ADNIMERGE2_Reg.loc[:,fff] = ggg\n"
     ]
    }
   ],
   "source": [
    "#Investigate for hippocampus, other ROIs can be added as well\n",
    "tfeat=['Hippocampus']\n",
    "ADNIMERGE2_Reg=ADNIMERGE2[['Years_bl','Suvival','AGE','ICV','DX_bl','death']]\n",
    "for fff in tfeat:\n",
    "    ggg =regressOut(ADNIMERGE2[fff], Xlin, use_fit)\n",
    "    ADNIMERGE2_Reg.loc[:,fff] = ggg"
   ]
  },
  {
   "cell_type": "code",
   "execution_count": 57,
   "id": "6cae1f77",
   "metadata": {},
   "outputs": [],
   "source": [
    "#Get the three groups of subjects\n",
    "AD_data_Reg=ADNIMERGE2_Reg[ADNIMERGE2_Reg['DX_bl'].isin(['AD'])]\n",
    "LMCI_data_Reg=ADNIMERGE2_Reg[ADNIMERGE2_Reg['DX_bl'].isin(['LMCI'])]\n",
    "CN_data_Reg=ADNIMERGE2_Reg[ADNIMERGE2_Reg['DX_bl'].isin(['CN'])]"
   ]
  },
  {
   "cell_type": "code",
   "execution_count": 58,
   "id": "3e258163",
   "metadata": {},
   "outputs": [
    {
     "name": "stderr",
     "output_type": "stream",
     "text": [
      "/var/folders/wy/6tng9d3d0j1dm7v45z4ylz880000gn/T/ipykernel_18009/1978304320.py:3: SettingWithCopyWarning: \n",
      "A value is trying to be set on a copy of a slice from a DataFrame.\n",
      "Try using .loc[row_indexer,col_indexer] = value instead\n",
      "\n",
      "See the caveats in the documentation: https://pandas.pydata.org/pandas-docs/stable/user_guide/indexing.html#returning-a-view-versus-a-copy\n",
      "  AD_data_Reg['Z_hippo']=(AD_data_Reg['Hippocampus']-mean)/sd\n",
      "/var/folders/wy/6tng9d3d0j1dm7v45z4ylz880000gn/T/ipykernel_18009/1978304320.py:4: SettingWithCopyWarning: \n",
      "A value is trying to be set on a copy of a slice from a DataFrame.\n",
      "Try using .loc[row_indexer,col_indexer] = value instead\n",
      "\n",
      "See the caveats in the documentation: https://pandas.pydata.org/pandas-docs/stable/user_guide/indexing.html#returning-a-view-versus-a-copy\n",
      "  LMCI_data_Reg['Z_hippo']=(LMCI_data_Reg['Hippocampus']-mean)/sd\n"
     ]
    }
   ],
   "source": [
    "mean=CN_data_Reg['Hippocampus'].mean()\n",
    "sd=CN_data_Reg['Hippocampus'].std()\n",
    "AD_data_Reg['Z_hippo']=(AD_data_Reg['Hippocampus']-mean)/sd\n",
    "LMCI_data_Reg['Z_hippo']=(LMCI_data_Reg['Hippocampus']-mean)/sd"
   ]
  },
  {
   "cell_type": "code",
   "execution_count": 59,
   "id": "5833632b",
   "metadata": {},
   "outputs": [
    {
     "name": "stdout",
     "output_type": "stream",
     "text": [
      "0.15385310326497847\n"
     ]
    },
    {
     "data": {
      "image/png": "[encoded data removed]",
      "text/plain": [
       "<Figure size 432x288 with 1 Axes>"
      ]
     },
     "metadata": {
      "needs_background": "light"
     },
     "output_type": "display_data"
    }
   ],
   "source": [
    "#compare measures before and after regression\n",
    "plt.scatter(AD_data_Reg.Hippocampus, AD_data_Reg.AGE)\n",
    "print(AD_data_Reg.AGE.corr(AD_data_Reg.Hippocampus))\n",
    "plt.show()"
   ]
  },
  {
   "cell_type": "code",
   "execution_count": 60,
   "id": "4e090364",
   "metadata": {},
   "outputs": [
    {
     "name": "stdout",
     "output_type": "stream",
     "text": [
      "-0.3410560810660916\n"
     ]
    },
    {
     "data": {
      "image/png": "[encoded data removed]",
      "text/plain": [
       "<Figure size 432x288 with 1 Axes>"
      ]
     },
     "metadata": {
      "needs_background": "light"
     },
     "output_type": "display_data"
    }
   ],
   "source": [
    "plt.scatter(ADNIMERGE1.Hippocampus, ADNIMERGE1.AGE)\n",
    "print(ADNIMERGE1.AGE.corr(ADNIMERGE1.Hippocampus))\n",
    "plt.show()"
   ]
  },
  {
   "cell_type": "code",
   "execution_count": 61,
   "id": "9c81529e",
   "metadata": {},
   "outputs": [
    {
     "data": {
      "text/plain": [
       "<AxesSubplot:xlabel='timeline'>"
      ]
     },
     "execution_count": 61,
     "metadata": {},
     "output_type": "execute_result"
    },
    {
     "data": {
      "image/png": "[encoded data removed]",
      "text/plain": [
       "<Figure size 432x288 with 1 Axes>"
      ]
     },
     "metadata": {
      "needs_background": "light"
     },
     "output_type": "display_data"
    }
   ],
   "source": [
    "#Use z-score cut-off -1.63 to group patients with low or normal hippocampal vols\n",
    "AD_data_ZGPlow_hippo=AD_data_Reg.loc[AD_data_Reg['Z_hippo']<-1.63]\n",
    "AD_data_ZGPnormal_hippo=AD_data_Reg.loc[AD_data_Reg['Z_hippo']>=-1.63]\n",
    "\n",
    "km.fit(AD_data_ZGPlow_hippo['Years_bl'], AD_data_ZGPlow_hippo['death'], label='AD low hippo')\n",
    "a1 = km.plot()\n",
    "\n",
    "# fit the model for 2nd cohort\n",
    "km.fit(AD_data_ZGPnormal_hippo['Years_bl'], AD_data_ZGPnormal_hippo['death'], label='AD normal hippo')\n",
    "km.plot(ax=a1)"
   ]
  },
  {
   "cell_type": "code",
   "execution_count": 62,
   "id": "97cafc60",
   "metadata": {},
   "outputs": [
    {
     "data": {
      "text/html": [
       "<div>\n",
       "<style scoped>\n",
       "    .dataframe tbody tr th:only-of-type {\n",
       "        vertical-align: middle;\n",
       "    }\n",
       "\n",
       "    .dataframe tbody tr th {\n",
       "        vertical-align: top;\n",
       "    }\n",
       "\n",
       "    .dataframe thead th {\n",
       "        text-align: right;\n",
       "    }\n",
       "</style>\n",
       "<table border=\"1\" class=\"dataframe\">\n",
       "  <tbody>\n",
       "    <tr>\n",
       "      <th>t_0</th>\n",
       "      <td>-1</td>\n",
       "    </tr>\n",
       "    <tr>\n",
       "      <th>null_distribution</th>\n",
       "      <td>chi squared</td>\n",
       "    </tr>\n",
       "    <tr>\n",
       "      <th>degrees_of_freedom</th>\n",
       "      <td>1</td>\n",
       "    </tr>\n",
       "    <tr>\n",
       "      <th>test_name</th>\n",
       "      <td>logrank_test</td>\n",
       "    </tr>\n",
       "  </tbody>\n",
       "</table>\n",
       "</div><table border=\"1\" class=\"dataframe\">\n",
       "  <thead>\n",
       "    <tr style=\"text-align: right;\">\n",
       "      <th></th>\n",
       "      <th>test_statistic</th>\n",
       "      <th>p</th>\n",
       "      <th>-log2(p)</th>\n",
       "    </tr>\n",
       "  </thead>\n",
       "  <tbody>\n",
       "    <tr>\n",
       "      <th>0</th>\n",
       "      <td>9.94</td>\n",
       "      <td>&lt;0.005</td>\n",
       "      <td>9.27</td>\n",
       "    </tr>\n",
       "  </tbody>\n",
       "</table>"
      ],
      "text/latex": [
       "\\begin{tabular}{lrrr}\n",
       " & test_statistic & p & -log2(p) \\\\\n",
       "0 & 9.94 & 0.00 & 9.27 \\\\\n",
       "\\end{tabular}\n"
      ],
      "text/plain": [
       "<lifelines.StatisticalResult: logrank_test>\n",
       "               t_0 = -1\n",
       " null_distribution = chi squared\n",
       "degrees_of_freedom = 1\n",
       "         test_name = logrank_test\n",
       "\n",
       "---\n",
       " test_statistic      p  -log2(p)\n",
       "           9.94 <0.005      9.27"
      ]
     },
     "metadata": {},
     "output_type": "display_data"
    }
   ],
   "source": [
    "from lifelines.statistics import logrank_test\n",
    "results=logrank_test(AD_data_ZGPlow_hippo['Years_bl'],AD_data_ZGPhigh_hippo['Years_bl'],event_observed_A=AD_data_ZGPlow_hippo['Suvival'], event_observed_B=AD_data_ZGPhigh_hippo['Suvival'])\n",
    "results.print_summary()"
   ]
  },
  {
   "cell_type": "code",
   "execution_count": 63,
   "id": "90d787c5",
   "metadata": {},
   "outputs": [
    {
     "data": {
      "text/plain": [
       "<AxesSubplot:xlabel='timeline'>"
      ]
     },
     "execution_count": 63,
     "metadata": {},
     "output_type": "execute_result"
    },
    {
     "data": {
      "image/png": "[encoded data removed]",
      "text/plain": [
       "<Figure size 432x288 with 1 Axes>"
      ]
     },
     "metadata": {
      "needs_background": "light"
     },
     "output_type": "display_data"
    }
   ],
   "source": [
    "LMCI_data_ZGPlow_hippo=LMCI_data_Reg.loc[LMCI_data_Reg['Z_hippo']<-1.63]\n",
    "LMCI_data_ZGPhigh_hippo=LMCI_data_Reg.loc[LMCI_data_Reg['Z_hippo']>=-1.63]\n",
    "\n",
    "km.fit(LMCI_data_ZGPlow_hippo['Years_bl'], LMCI_data_ZGPlow_hippo['death'], label='LMCI low hippo')\n",
    "a1 = km.plot()\n",
    "\n",
    "# fit the model for 2nd cohort\n",
    "km.fit(LMCI_data_ZGPhigh_hippo['Years_bl'], LMCI_data_ZGPhigh_hippo['death'], label='LMCI normal hippo')\n",
    "km.plot(ax=a1)"
   ]
  },
  {
   "cell_type": "code",
   "execution_count": 64,
   "id": "f19e9d3a",
   "metadata": {},
   "outputs": [
    {
     "data": {
      "text/html": [
       "<div>\n",
       "<style scoped>\n",
       "    .dataframe tbody tr th:only-of-type {\n",
       "        vertical-align: middle;\n",
       "    }\n",
       "\n",
       "    .dataframe tbody tr th {\n",
       "        vertical-align: top;\n",
       "    }\n",
       "\n",
       "    .dataframe thead th {\n",
       "        text-align: right;\n",
       "    }\n",
       "</style>\n",
       "<table border=\"1\" class=\"dataframe\">\n",
       "  <tbody>\n",
       "    <tr>\n",
       "      <th>t_0</th>\n",
       "      <td>-1</td>\n",
       "    </tr>\n",
       "    <tr>\n",
       "      <th>null_distribution</th>\n",
       "      <td>chi squared</td>\n",
       "    </tr>\n",
       "    <tr>\n",
       "      <th>degrees_of_freedom</th>\n",
       "      <td>1</td>\n",
       "    </tr>\n",
       "    <tr>\n",
       "      <th>test_name</th>\n",
       "      <td>logrank_test</td>\n",
       "    </tr>\n",
       "  </tbody>\n",
       "</table>\n",
       "</div><table border=\"1\" class=\"dataframe\">\n",
       "  <thead>\n",
       "    <tr style=\"text-align: right;\">\n",
       "      <th></th>\n",
       "      <th>test_statistic</th>\n",
       "      <th>p</th>\n",
       "      <th>-log2(p)</th>\n",
       "    </tr>\n",
       "  </thead>\n",
       "  <tbody>\n",
       "    <tr>\n",
       "      <th>0</th>\n",
       "      <td>0.61</td>\n",
       "      <td>0.43</td>\n",
       "      <td>1.20</td>\n",
       "    </tr>\n",
       "  </tbody>\n",
       "</table>"
      ],
      "text/latex": [
       "\\begin{tabular}{lrrr}\n",
       " & test_statistic & p & -log2(p) \\\\\n",
       "0 & 0.61 & 0.43 & 1.20 \\\\\n",
       "\\end{tabular}\n"
      ],
      "text/plain": [
       "<lifelines.StatisticalResult: logrank_test>\n",
       "               t_0 = -1\n",
       " null_distribution = chi squared\n",
       "degrees_of_freedom = 1\n",
       "         test_name = logrank_test\n",
       "\n",
       "---\n",
       " test_statistic    p  -log2(p)\n",
       "           0.61 0.43      1.20"
      ]
     },
     "metadata": {},
     "output_type": "display_data"
    }
   ],
   "source": [
    "results=logrank_test(LMCI_data_ZGPlow_hippo['Years_bl'],LMCI_data_ZGPhigh_hippo['Years_bl'],event_observed_A=LMCI_data_ZGPlow_hippo['Suvival'], event_observed_B=LMCI_data_ZGPhigh_hippo['Suvival'])\n",
    "results.print_summary()"
   ]
  },
  {
   "cell_type": "code",
   "execution_count": 65,
   "id": "a6628ced",
   "metadata": {},
   "outputs": [
    {
     "data": {
      "text/html": [
       "<div>\n",
       "<style scoped>\n",
       "    .dataframe tbody tr th:only-of-type {\n",
       "        vertical-align: middle;\n",
       "    }\n",
       "\n",
       "    .dataframe tbody tr th {\n",
       "        vertical-align: top;\n",
       "    }\n",
       "\n",
       "    .dataframe thead th {\n",
       "        text-align: right;\n",
       "    }\n",
       "</style>\n",
       "<table border=\"1\" class=\"dataframe\">\n",
       "  <tbody>\n",
       "    <tr>\n",
       "      <th>t_0</th>\n",
       "      <td>-1</td>\n",
       "    </tr>\n",
       "    <tr>\n",
       "      <th>null_distribution</th>\n",
       "      <td>chi squared</td>\n",
       "    </tr>\n",
       "    <tr>\n",
       "      <th>degrees_of_freedom</th>\n",
       "      <td>1</td>\n",
       "    </tr>\n",
       "    <tr>\n",
       "      <th>test_name</th>\n",
       "      <td>logrank_test</td>\n",
       "    </tr>\n",
       "  </tbody>\n",
       "</table>\n",
       "</div><table border=\"1\" class=\"dataframe\">\n",
       "  <thead>\n",
       "    <tr style=\"text-align: right;\">\n",
       "      <th></th>\n",
       "      <th>test_statistic</th>\n",
       "      <th>p</th>\n",
       "      <th>-log2(p)</th>\n",
       "    </tr>\n",
       "  </thead>\n",
       "  <tbody>\n",
       "    <tr>\n",
       "      <th>0</th>\n",
       "      <td>3.90</td>\n",
       "      <td>0.05</td>\n",
       "      <td>4.38</td>\n",
       "    </tr>\n",
       "  </tbody>\n",
       "</table>"
      ],
      "text/latex": [
       "\\begin{tabular}{lrrr}\n",
       " & test_statistic & p & -log2(p) \\\\\n",
       "0 & 3.90 & 0.05 & 4.38 \\\\\n",
       "\\end{tabular}\n"
      ],
      "text/plain": [
       "<lifelines.StatisticalResult: logrank_test>\n",
       "               t_0 = -1\n",
       " null_distribution = chi squared\n",
       "degrees_of_freedom = 1\n",
       "         test_name = logrank_test\n",
       "\n",
       "---\n",
       " test_statistic    p  -log2(p)\n",
       "           3.90 0.05      4.38"
      ]
     },
     "metadata": {},
     "output_type": "display_data"
    }
   ],
   "source": [
    "results=logrank_test(AD_data_ZGPlow_hippo['Years_bl'],AD_data_ZGPhigh_hippo['Years_bl'],event_observed_A=AD_data_ZGPlow_hippo['death'], event_observed_B=AD_data_ZGPhigh_hippo['death'])\n",
    "results.print_summary()"
   ]
  },
  {
   "cell_type": "code",
   "execution_count": 66,
   "id": "7f860e7b",
   "metadata": {},
   "outputs": [],
   "source": [
    "def get_best_cutoff(data_ZGP,surv_col):\n",
    "    cutoff=0\n",
    "    p_val=0.9\n",
    "    final_cutoff=0\n",
    "    while cutoff>-3:\n",
    "        data_ZGPlow_hippo=data_ZGP.loc[data_ZGP['Z_hippo']<cutoff]\n",
    "        data_ZGPhigh_hippo=data_ZGP.loc[data_ZGP['Z_hippo']>=cutoff]\n",
    "\n",
    "\n",
    "        results=logrank_test(data_ZGPlow_hippo['Years_bl'],data_ZGPhigh_hippo['Years_bl'],event_observed_A=data_ZGPlow_hippo[f'{surv_col}'], event_observed_B=data_ZGPhigh_hippo[f'{surv_col}'])\n",
    "        current_p_val=results.p_value\n",
    "        if current_p_val<p_val:\n",
    "            p_val=current_p_val\n",
    "            final_cutoff=cutoff\n",
    "        cutoff=cutoff-0.1\n",
    "    return round(p_val,3), round(final_cutoff,3)"
   ]
  },
  {
   "cell_type": "code",
   "execution_count": 67,
   "id": "c2453672",
   "metadata": {},
   "outputs": [
    {
     "data": {
      "text/plain": [
       "(0.003, -0.5)"
      ]
     },
     "execution_count": 67,
     "metadata": {},
     "output_type": "execute_result"
    }
   ],
   "source": [
    "AD_p_val,AD_final_cutoff=get_best_cutoff(AD_data_Reg,'death')\n",
    "AD_p_val,AD_final_cutoff"
   ]
  },
  {
   "cell_type": "code",
   "execution_count": null,
   "id": "b8fab339",
   "metadata": {},
   "outputs": [],
   "source": []
  },
  {
   "cell_type": "code",
   "execution_count": 68,
   "id": "83e228c1",
   "metadata": {},
   "outputs": [
    {
     "data": {
      "text/plain": [
       "<AxesSubplot:xlabel='timeline'>"
      ]
     },
     "execution_count": 68,
     "metadata": {},
     "output_type": "execute_result"
    },
    {
     "data": {
      "image/png": "[encoded data removed]",
      "text/plain": [
       "<Figure size 432x288 with 1 Axes>"
      ]
     },
     "metadata": {
      "needs_background": "light"
     },
     "output_type": "display_data"
    }
   ],
   "source": [
    "#Use the best z-score cut-off\n",
    "AD_data_ZGPlow_hippo=AD_data_Reg.loc[AD_data_Reg['Z_hippo']<AD_final_cutoff]\n",
    "AD_data_ZGPhigh_hippo=AD_data_Reg.loc[AD_data_Reg['Z_hippo']>=AD_final_cutoff]\n",
    "\n",
    "km.fit(AD_data_ZGPlow_hippo['Years_bl'], AD_data_ZGPlow_hippo['death'], label='AD low hippo')\n",
    "a1 = km.plot()\n",
    "\n",
    "# fit the model for 2nd cohort\n",
    "km.fit(AD_data_ZGPhigh_hippo['Years_bl'],AD_data_ZGPhigh_hippo['death'], label='AD normal hippo')\n",
    "km.plot(ax=a1)"
   ]
  },
  {
   "cell_type": "code",
   "execution_count": 69,
   "id": "86928fea",
   "metadata": {},
   "outputs": [
    {
     "name": "stdout",
     "output_type": "stream",
     "text": [
      "0.001 -1.7\n"
     ]
    },
    {
     "data": {
      "text/plain": [
       "<AxesSubplot:xlabel='timeline'>"
      ]
     },
     "execution_count": 69,
     "metadata": {},
     "output_type": "execute_result"
    },
    {
     "data": {
      "image/png": "[encoded data removed]",
      "text/plain": [
       "<Figure size 432x288 with 1 Axes>"
      ]
     },
     "metadata": {
      "needs_background": "light"
     },
     "output_type": "display_data"
    }
   ],
   "source": [
    "AD_p_val,AD_final_cutoff=get_best_cutoff(AD_data_Reg,'Suvival')\n",
    "print(AD_p_val,AD_final_cutoff)\n",
    "AD_data_ZGPlow_hippo=AD_data_Reg.loc[AD_data_Reg['Z_hippo']<AD_final_cutoff]\n",
    "AD_data_ZGPhigh_hippo=AD_data_Reg.loc[AD_data_Reg['Z_hippo']>=AD_final_cutoff]\n",
    "\n",
    "km.fit(AD_data_ZGPlow_hippo['Years_bl'], AD_data_ZGPlow_hippo['Suvival'], label='AD low hippo')\n",
    "a1 = km.plot()\n",
    "\n",
    "# fit the model for 2nd cohort\n",
    "km.fit(AD_data_ZGPhigh_hippo['Years_bl'],AD_data_ZGPhigh_hippo['Suvival'], label='AD normal hippo')\n",
    "km.plot(ax=a1)"
   ]
  },
  {
   "cell_type": "code",
   "execution_count": 70,
   "id": "8609b929",
   "metadata": {},
   "outputs": [
    {
     "data": {
      "text/plain": [
       "(0.006, -0.7)"
      ]
     },
     "execution_count": 70,
     "metadata": {},
     "output_type": "execute_result"
    }
   ],
   "source": [
    "LMCI_p_val,LMCI_final_cutoff=get_best_cutoff(LMCI_data_Reg,'death')\n",
    "LMCI_p_val,LMCI_final_cutoff"
   ]
  },
  {
   "cell_type": "code",
   "execution_count": 71,
   "id": "fbb8f937",
   "metadata": {},
   "outputs": [
    {
     "data": {
      "text/plain": [
       "<AxesSubplot:xlabel='timeline'>"
      ]
     },
     "execution_count": 71,
     "metadata": {},
     "output_type": "execute_result"
    },
    {
     "data": {
      "image/png": "[encoded data removed]",
      "text/plain": [
       "<Figure size 432x288 with 1 Axes>"
      ]
     },
     "metadata": {
      "needs_background": "light"
     },
     "output_type": "display_data"
    }
   ],
   "source": [
    "LMCI_data_ZGPlow_hippo=LMCI_data_Reg.loc[LMCI_data_Reg['Z_hippo']<LMCI_final_cutoff]\n",
    "LMCI_data_ZGPhigh_hippo=LMCI_data_Reg.loc[LMCI_data_Reg['Z_hippo']>=LMCI_final_cutoff]\n",
    "\n",
    "km.fit(LMCI_data_ZGPlow_hippo['Years_bl'], LMCI_data_ZGPlow_hippo['death'], label='LMCI low hippo')\n",
    "a1 = km.plot()\n",
    "\n",
    "# fit the model for 2nd cohort\n",
    "km.fit(LMCI_data_ZGPhigh_hippo['Years_bl'], LMCI_data_ZGPhigh_hippo['death'], label='LMCI normal hippo')\n",
    "km.plot(ax=a1)"
   ]
  },
  {
   "cell_type": "code",
   "execution_count": 72,
   "id": "5178ce2f",
   "metadata": {},
   "outputs": [
    {
     "data": {
      "text/html": [
       "<div>\n",
       "<style scoped>\n",
       "    .dataframe tbody tr th:only-of-type {\n",
       "        vertical-align: middle;\n",
       "    }\n",
       "\n",
       "    .dataframe tbody tr th {\n",
       "        vertical-align: top;\n",
       "    }\n",
       "\n",
       "    .dataframe thead th {\n",
       "        text-align: right;\n",
       "    }\n",
       "</style>\n",
       "<table border=\"1\" class=\"dataframe\">\n",
       "  <tbody>\n",
       "    <tr>\n",
       "      <th>t_0</th>\n",
       "      <td>-1</td>\n",
       "    </tr>\n",
       "    <tr>\n",
       "      <th>null_distribution</th>\n",
       "      <td>chi squared</td>\n",
       "    </tr>\n",
       "    <tr>\n",
       "      <th>degrees_of_freedom</th>\n",
       "      <td>1</td>\n",
       "    </tr>\n",
       "    <tr>\n",
       "      <th>test_name</th>\n",
       "      <td>logrank_test</td>\n",
       "    </tr>\n",
       "  </tbody>\n",
       "</table>\n",
       "</div><table border=\"1\" class=\"dataframe\">\n",
       "  <thead>\n",
       "    <tr style=\"text-align: right;\">\n",
       "      <th></th>\n",
       "      <th>test_statistic</th>\n",
       "      <th>p</th>\n",
       "      <th>-log2(p)</th>\n",
       "    </tr>\n",
       "  </thead>\n",
       "  <tbody>\n",
       "    <tr>\n",
       "      <th>0</th>\n",
       "      <td>7.45</td>\n",
       "      <td>0.01</td>\n",
       "      <td>7.30</td>\n",
       "    </tr>\n",
       "  </tbody>\n",
       "</table>"
      ],
      "text/latex": [
       "\\begin{tabular}{lrrr}\n",
       " & test_statistic & p & -log2(p) \\\\\n",
       "0 & 7.45 & 0.01 & 7.30 \\\\\n",
       "\\end{tabular}\n"
      ],
      "text/plain": [
       "<lifelines.StatisticalResult: logrank_test>\n",
       "               t_0 = -1\n",
       " null_distribution = chi squared\n",
       "degrees_of_freedom = 1\n",
       "         test_name = logrank_test\n",
       "\n",
       "---\n",
       " test_statistic    p  -log2(p)\n",
       "           7.45 0.01      7.30"
      ]
     },
     "metadata": {},
     "output_type": "display_data"
    }
   ],
   "source": [
    "results=logrank_test(LMCI_data_ZGPlow_hippo['Years_bl'],LMCI_data_ZGPhigh_hippo['Years_bl'],event_observed_A=LMCI_data_ZGPlow_hippo['death'], event_observed_B=LMCI_data_ZGPhigh_hippo['death'])\n",
    "results.print_summary()"
   ]
  },
  {
   "cell_type": "code",
   "execution_count": null,
   "id": "529578d0",
   "metadata": {},
   "outputs": [],
   "source": []
  }
 ],
 "metadata": {
  "kernelspec": {
   "display_name": "Python 3 (ipykernel)",
   "language": "python",
   "name": "python3"
  },
  "language_info": {
   "codemirror_mode": {
    "name": "ipython",
    "version": 3
   },
   "file_extension": ".py",
   "mimetype": "text/x-python",
   "name": "python",
   "nbconvert_exporter": "python",
   "pygments_lexer": "ipython3",
   "version": "3.9.5"
  }
 },
 "nbformat": 4,
 "nbformat_minor": 5
}
