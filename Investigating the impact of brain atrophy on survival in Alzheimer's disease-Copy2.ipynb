{
 "cells": [
  {
   "cell_type": "markdown",
   "id": "578805df",
   "metadata": {},
   "source": [
    "# Investigating the impact of brain atrophy on survival in Alzheimer's disease"
   ]
  },
  {
   "cell_type": "markdown",
   "id": "be90ca8d",
   "metadata": {},
   "source": [
    "&emsp;\n",
    "This notebook is divided into the following topics:\n",
    "1) Predict survival probability using the Kaplan-Meier estimate for controls, patients with LMCI or AD \n",
    "2) Investigate features that impact the survival using the Cox Proportional-Hazards model\n",
    "2) Investigate the cut-off of regional atrophy that determines low versus high survival in patients with AD\n",
    "&emsp;"
   ]
  },
  {
   "cell_type": "markdown",
   "id": "20c059cd",
   "metadata": {},
   "source": [
    "### 1) Predict survival probability using the Kaplan-Meier estimate for controls, patients with LMCI or AD "
   ]
  },
  {
   "cell_type": "code",
   "execution_count": null,
   "id": "cce6a1a8",
   "metadata": {},
   "outputs": [],
   "source": [
    "import numpy as np\n",
    "import pandas as pd\n",
    "import pandas_profiling\n",
    "import matplotlib.pyplot as plt\n",
    "import os, sys\n",
    "from lifelines import CoxPHFitter\n",
    "from lifelines import KaplanMeierFitter\n",
    "from datetime import datetime\n",
    "%matplotlib inline\n",
    "\n",
    "from sklearn.linear_model import LinearRegression\n",
    "from sklearn.gaussian_process import GaussianProcessRegressor\n",
    "from sklearn.gaussian_process.kernels import RBF, DotProduct, WhiteKernel, ConstantKernel as C\n",
    "from sklearn.preprocessing import StandardScaler"
   ]
  },
  {
   "cell_type": "code",
   "execution_count": null,
   "id": "a2d0cac7",
   "metadata": {},
   "outputs": [],
   "source": [
    "#Import the dataset\n",
    "ADNIMERGE0=pd.read_csv('ADNIMERGE.csv',low_memory=False)\n",
    "WD_Reason=pd.read_csv('WD_Reason_TREATDIS.csv',low_memory=False)\n",
    "ADNIMERGE1=pd.merge(ADNIMERGE0,WD_Reason,on='RID',how='inner')\n",
    "ADNIMERGE1.AGE.hist()"
   ]
  },
  {
   "cell_type": "code",
   "execution_count": null,
   "id": "580faf1d",
   "metadata": {},
   "outputs": [],
   "source": [
    "ADNIMERGE1.AGE.hist()"
   ]
  },
  {
   "cell_type": "code",
   "execution_count": null,
   "id": "fd16df20",
   "metadata": {},
   "outputs": [],
   "source": []
  },
  {
   "cell_type": "code",
   "execution_count": null,
   "id": "e52f6639",
   "metadata": {},
   "outputs": [],
   "source": [
    "#Get list of subjects \n",
    "ADNIMERGE_subjs_list=ADNIMERGE1.PTID.unique()"
   ]
  },
  {
   "cell_type": "code",
   "execution_count": null,
   "id": "692a5494",
   "metadata": {},
   "outputs": [],
   "source": [
    "#Create a function that gets the max years since baseline indices and translates it to the last entry\n",
    "def get_max_idx(subjs_list,data):\n",
    "    max_idx_bl_years=[]\n",
    "    for subj in subjs_list:\n",
    "        df=data[data['PTID'].isin([f'{subj}'])]\n",
    "        subj_idx_max=df.Years_bl.idxmax()\n",
    "        max_idx_bl_years.append(subj_idx_max)\n",
    "    return max_idx_bl_years"
   ]
  },
  {
   "cell_type": "code",
   "execution_count": null,
   "id": "9659f200",
   "metadata": {},
   "outputs": [],
   "source": [
    "ADNIMERGE_max_idx_bl_years=get_max_idx(ADNIMERGE_subjs_list,ADNIMERGE1)"
   ]
  },
  {
   "cell_type": "code",
   "execution_count": null,
   "id": "b95d55e4",
   "metadata": {},
   "outputs": [],
   "source": [
    "#Assign Survival=1 to the max years since baseline or 0 otherwise\n",
    "ADNIMERGE1['Suvival']=0\n",
    "ADNIMERGE1.loc[ADNIMERGE_max_idx_bl_years,'Suvival']=1\n"
   ]
  },
  {
   "cell_type": "code",
   "execution_count": null,
   "id": "e8c97f28",
   "metadata": {},
   "outputs": [],
   "source": []
  },
  {
   "cell_type": "code",
   "execution_count": null,
   "id": "b8e8d87c",
   "metadata": {},
   "outputs": [],
   "source": [
    "#Check if subject' death is recorded and create new column as 'death'\n",
    "ADNIMERGE_dead_idx=ADNIMERGE1.index[(ADNIMERGE1['Suvival'] == 1) &  (ADNIMERGE1['WDREASON']=='2')].tolist()\n",
    "ADNIMERGE1['death']=0\n",
    "ADNIMERGE1.loc[ADNIMERGE_dead_idx,'death']=1"
   ]
  },
  {
   "cell_type": "code",
   "execution_count": null,
   "id": "e3f61f17",
   "metadata": {},
   "outputs": [],
   "source": []
  },
  {
   "cell_type": "code",
   "execution_count": null,
   "id": "ecaaab8b",
   "metadata": {},
   "outputs": [],
   "source": [
    "ADNIMERGE_dead_idx"
   ]
  },
  {
   "cell_type": "code",
   "execution_count": null,
   "id": "6b9a2c78",
   "metadata": {},
   "outputs": [],
   "source": [
    "CN_data=ADNIMERGE1[ADNIMERGE1['DX_bl'].isin(['CN'])]\n",
    "CN_data.shape\n",
    "LMCI_data=ADNIMERGE1[ADNIMERGE1['DX_bl'].isin(['LMCI'])]\n",
    "LMCI_data.shape\n",
    "AD_data=ADNIMERGE1[ADNIMERGE1['DX_bl'].isin(['AD'])]\n",
    "AD_data.shape"
   ]
  },
  {
   "cell_type": "code",
   "execution_count": null,
   "id": "3fc9565e",
   "metadata": {},
   "outputs": [],
   "source": [
    "ADNIMERGE1['DX_bl']"
   ]
  },
  {
   "cell_type": "code",
   "execution_count": null,
   "id": "7647234f",
   "metadata": {},
   "outputs": [],
   "source": [
    "#Check if any CN transform to LMCI or AD\n",
    "CN_to_LMCI=LMCI_data[LMCI_data['PTID'].isin(CN_data['PTID'])]\n",
    "print(CN_to_LMCI.shape)\n",
    "CN_to_AD=AD_data[AD_data['PTID'].isin(CN_data['PTID'])]\n",
    "CN_to_AD.shape"
   ]
  },
  {
   "cell_type": "code",
   "execution_count": null,
   "id": "f9b290b1",
   "metadata": {},
   "outputs": [],
   "source": [
    "ADNIMERGE['Suvival'].value_counts()"
   ]
  },
  {
   "cell_type": "code",
   "execution_count": null,
   "id": "25dea514",
   "metadata": {},
   "outputs": [],
   "source": [
    "ADNIMERGE['death'].value_counts()"
   ]
  },
  {
   "cell_type": "code",
   "execution_count": null,
   "id": "15d69e3e",
   "metadata": {},
   "outputs": [],
   "source": [
    "#Fit for plotting 'Suvival'\n",
    "km = KaplanMeierFitter() \n",
    "km.fit(CN_data['Years_bl'], CN_data['Suvival'], label='CN survival')\n",
    "a1 = km.plot()\n",
    "\n",
    "km.fit(LMCI_data['Years_bl'], LMCI_data['Suvival'], label='LMCI survival')\n",
    "a2=km.plot(ax=a1)\n",
    "\n",
    "km.fit(AD_data['Years_bl'], AD_data['Suvival'], label='AD survival')\n",
    "km.plot(ax=a2)"
   ]
  },
  {
   "cell_type": "code",
   "execution_count": null,
   "id": "71e57a28",
   "metadata": {},
   "outputs": [],
   "source": [
    "#Fit for plotting 'death'\n",
    "km = KaplanMeierFitter() \n",
    "km.fit(CN_data['Years_bl'], CN_data['death'], label='CN time till death')\n",
    "a1 = km.plot()\n",
    "\n",
    "km.fit(LMCI_data['Years_bl'], LMCI_data['death'], label='LMCI time till death')\n",
    "a2=km.plot(ax=a1)\n",
    "\n",
    "km.fit(AD_data['Years_bl'], AD_data['death'], label='AD time till death')\n",
    "km.plot(ax=a2)"
   ]
  },
  {
   "cell_type": "code",
   "execution_count": null,
   "id": "6308130e",
   "metadata": {},
   "outputs": [],
   "source": [
    "#Fit a separate model and predict survival for a range of years\n",
    "#Controls\n",
    "km1 = KaplanMeierFitter() \n",
    "km1.fit(CN_data['Years_bl'], CN_data['Suvival'], label='CN survival')\n",
    "km1.predict([0,3,6,10,15,20])"
   ]
  },
  {
   "cell_type": "code",
   "execution_count": null,
   "id": "f1ff1eb8",
   "metadata": {},
   "outputs": [],
   "source": []
  },
  {
   "cell_type": "code",
   "execution_count": null,
   "id": "86478793",
   "metadata": {},
   "outputs": [],
   "source": [
    "#Patients with AD\n",
    "km2 = KaplanMeierFitter() \n",
    "km2.fit(AD_data['Years_bl'], AD_data['Suvival'], label='AD survival')\n",
    "km2.predict([0,3,6,10,15,20])"
   ]
  },
  {
   "cell_type": "code",
   "execution_count": null,
   "id": "2be1c3cd",
   "metadata": {},
   "outputs": [],
   "source": []
  },
  {
   "cell_type": "markdown",
   "id": "41903756",
   "metadata": {},
   "source": [
    "### 2) Investigate features that impact the survival using the Cox Proportional-Hazards model"
   ]
  },
  {
   "cell_type": "code",
   "execution_count": null,
   "id": "b8ad0497",
   "metadata": {},
   "outputs": [],
   "source": [
    "from lifelines import CoxPHFitter\n",
    "data_cox_hz=AD_data[['APOE4','Ventricles','Hippocampus','WholeBrain','Entorhinal','Fusiform','MidTemp','Years_bl','Suvival','AGE','ICV','death']]\n",
    "data_cox_hz=data_cox_hz.dropna()\n",
    "cph=CoxPHFitter()\n",
    "cph.fit(data_cox_hz,'Years_bl',event_col='death')\n",
    "cph.print_summary()"
   ]
  },
  {
   "cell_type": "code",
   "execution_count": null,
   "id": "1a97bff5",
   "metadata": {},
   "outputs": [],
   "source": [
    "#In summary, check which features impact the survival from the p-values"
   ]
  },
  {
   "cell_type": "code",
   "execution_count": null,
   "id": "8905b356",
   "metadata": {},
   "outputs": [],
   "source": [
    "data_cox_hz.Suvival.value_counts()"
   ]
  },
  {
   "cell_type": "code",
   "execution_count": null,
   "id": "7bf5b530",
   "metadata": {},
   "outputs": [],
   "source": [
    "data_cox_hz=AD_data[['APOE4','Ventricles','Hippocampus','WholeBrain','Entorhinal','Fusiform','MidTemp','Years_bl','Suvival','AGE','ICV','death']]\n",
    "data_cox_hz=data_cox_hz.dropna()\n",
    "cph=CoxPHFitter(penalizer=0.1)\n",
    "cph.fit(data_cox_hz,'Years_bl',event_col='Suvival')\n",
    "cph.print_summary()"
   ]
  },
  {
   "cell_type": "markdown",
   "id": "0b4eae7f",
   "metadata": {},
   "source": [
    "### 3) Investigate the cut-off of regional atrophy that determines low versus high survival in patients with AD  "
   ]
  },
  {
   "cell_type": "code",
   "execution_count": null,
   "id": "698c57e5",
   "metadata": {},
   "outputs": [],
   "source": [
    "#Define function to regress covariates from regions of interest \n",
    "from sklearn import linear_model\n",
    "\n",
    "def regressOut(y, X, use_fit=None):\n",
    "    lm = linear_model.LinearRegression()    \n",
    "    if use_fit is None:\n",
    "        use_fit = [True] * X.shape[0]\n",
    "    else:\n",
    "        use_fit = use_fit.values\n",
    "\n",
    "    x_mean = X.iloc[use_fit,:].mean()\n",
    "    lm.fit(X.loc[use_fit,:].values, y.loc[use_fit])\n",
    "    yhat = lm.predict(X.values)\n",
    "    #residual\n",
    "    res = y - yhat\n",
    "\n",
    "    offset = lm.predict(x_mean.values.reshape(1, -1))\n",
    "\n",
    "    return(res + offset)\n"
   ]
  },
  {
   "cell_type": "code",
   "execution_count": null,
   "id": "0bc92c87",
   "metadata": {},
   "outputs": [],
   "source": [
    "#Duplicate the original df\n",
    "ADNIMERGE2=ADNIMERGE1[['Years_bl','Suvival','AGE','ICV','Ventricles','Hippocampus','WholeBrain','Entorhinal','Fusiform','MidTemp','death','DX_bl']]\n",
    "ADNIMERGE2=ADNIMERGE2.dropna()"
   ]
  },
  {
   "cell_type": "code",
   "execution_count": null,
   "id": "3129c112",
   "metadata": {},
   "outputs": [],
   "source": [
    "#Define covs\n",
    "covars = ['AGE','ICV']\n",
    "Xlin = ADNIMERGE2.loc[:,covars]\n",
    "use_fit = (ADNIMERGE2.DX_bl=='CN')"
   ]
  },
  {
   "cell_type": "code",
   "execution_count": null,
   "id": "851b4895",
   "metadata": {},
   "outputs": [],
   "source": [
    "#Investigate for hippocampus, other ROIs can be added as well\n",
    "tfeat=['Hippocampus']\n",
    "ADNIMERGE2_Reg=ADNIMERGE2[['Years_bl','Suvival','AGE','ICV','DX_bl','death']]\n",
    "for fff in tfeat:\n",
    "    ggg =regressOut(ADNIMERGE2[fff], Xlin, use_fit)\n",
    "    ADNIMERGE2_Reg.loc[:,fff] = ggg"
   ]
  },
  {
   "cell_type": "code",
   "execution_count": null,
   "id": "e483547b",
   "metadata": {},
   "outputs": [],
   "source": [
    "ADNIMERGE2_Reg"
   ]
  },
  {
   "cell_type": "code",
   "execution_count": null,
   "id": "37436f98",
   "metadata": {},
   "outputs": [],
   "source": [
    "AD_data_Reg=ADNIMERGE2_Reg[ADNIMERGE2_Reg['DX_bl'].isin(['AD'])]\n",
    "LMCI_data_Reg=ADNIMERGE2_Reg[ADNIMERGE2_Reg['DX_bl'].isin(['LMCI'])]\n",
    "CN_data_Reg=ADNIMERGE2_Reg[ADNIMERGE2_Reg['DX_bl'].isin(['CN'])]\n",
    "cph=CoxPHFitter()\n",
    "cph.fit(AD_data_Reg,'Years_bl',event_col='death')\n",
    "cph.print_summary()"
   ]
  },
  {
   "cell_type": "code",
   "execution_count": null,
   "id": "94a23d39",
   "metadata": {},
   "outputs": [],
   "source": [
    "cph=CoxPHFitter()\n",
    "cph.fit(AD_data_Reg,'Years_bl',event_col='Suvival')\n",
    "cph.print_summary()"
   ]
  },
  {
   "cell_type": "code",
   "execution_count": null,
   "id": "3e258163",
   "metadata": {},
   "outputs": [],
   "source": [
    "mean=CN_data_Reg['Hippocampus'].mean()\n",
    "sd=CN_data_Reg['Hippocampus'].std()\n",
    "AD_data_Reg['Z_hippo']=(AD_data_Reg['Hippocampus']-mean)/sd\n",
    "LMCI_data_Reg['Z_hippo']=(LMCI_data_Reg['Hippocampus']-mean)/sd"
   ]
  },
  {
   "cell_type": "code",
   "execution_count": null,
   "id": "5833632b",
   "metadata": {},
   "outputs": [],
   "source": [
    "#compare measures before and after regression\n",
    "plt.scatter(AD_data_Reg.Hippocampus, AD_data_Reg.AGE)\n",
    "print(AD_data_Reg.AGE.corr(AD_data_Reg.Hippocampus))\n",
    "plt.show()"
   ]
  },
  {
   "cell_type": "code",
   "execution_count": null,
   "id": "4e090364",
   "metadata": {},
   "outputs": [],
   "source": [
    "plt.scatter(ADNIMERGE1.Hippocampus, ADNIMERGE1.AGE)\n",
    "print(ADNIMERGE1.AGE.corr(ADNIMERGE1.Hippocampus))\n",
    "plt.show()"
   ]
  },
  {
   "cell_type": "code",
   "execution_count": null,
   "id": "9c81529e",
   "metadata": {},
   "outputs": [],
   "source": [
    "#Use z-score cut-off -1.63 to group patients with low or normal hippocampal vols\n",
    "AD_data_ZGPlow_hippo=AD_data_Reg.loc[AD_data_Reg['Z_hippo']<-1.63]\n",
    "AD_data_ZGPnormal_hippo=AD_data_Reg.loc[AD_data_Reg['Z_hippo']>=-1.63]\n",
    "\n",
    "km.fit(AD_data_ZGPlow_hippo['Years_bl'], AD_data_ZGPlow_hippo['death'], label='AD low hippo')\n",
    "a1 = km.plot()\n",
    "\n",
    "# fit the model for 2nd cohort\n",
    "km.fit(AD_data_ZGPnormal_hippo['Years_bl'], AD_data_ZGPnormal_hippo['death'], label='AD normal hippo')\n",
    "km.plot(ax=a1)"
   ]
  },
  {
   "cell_type": "code",
   "execution_count": null,
   "id": "97cafc60",
   "metadata": {},
   "outputs": [],
   "source": [
    "from lifelines.statistics import logrank_test\n",
    "results=logrank_test(AD_data_ZGPlow_hippo['Years_bl'],AD_data_ZGPhigh_hippo['Years_bl'],event_observed_A=AD_data_ZGPlow_hippo['Suvival'], event_observed_B=AD_data_ZGPhigh_hippo['Suvival'])\n",
    "results.print_summary()"
   ]
  },
  {
   "cell_type": "code",
   "execution_count": null,
   "id": "90d787c5",
   "metadata": {},
   "outputs": [],
   "source": [
    "LMCI_data_ZGPlow_hippo=LMCI_data_Reg.loc[LMCI_data_Reg['Z_hippo']<-1.63]\n",
    "LMCI_data_ZGPhigh_hippo=LMCI_data_Reg.loc[LMCI_data_Reg['Z_hippo']>=-1.63]\n",
    "\n",
    "km.fit(LMCI_data_ZGPlow_hippo['Years_bl'], LMCI_data_ZGPlow_hippo['death'], label='LMCI low hippo')\n",
    "a1 = km.plot()\n",
    "\n",
    "# fit the model for 2nd cohort\n",
    "km.fit(LMCI_data_ZGPhigh_hippo['Years_bl'], LMCI_data_ZGPhigh_hippo['death'], label='LMCI normal hippo')\n",
    "km.plot(ax=a1)"
   ]
  },
  {
   "cell_type": "code",
   "execution_count": null,
   "id": "f19e9d3a",
   "metadata": {},
   "outputs": [],
   "source": [
    "results=logrank_test(LMCI_data_ZGPlow_hippo['Years_bl'],LMCI_data_ZGPhigh_hippo['Years_bl'],event_observed_A=LMCI_data_ZGPlow_hippo['Suvival'], event_observed_B=LMCI_data_ZGPhigh_hippo['Suvival'])\n",
    "results.print_summary()"
   ]
  },
  {
   "cell_type": "code",
   "execution_count": null,
   "id": "a6628ced",
   "metadata": {},
   "outputs": [],
   "source": [
    "results=logrank_test(AD_data_ZGPlow_hippo['Years_bl'],AD_data_ZGPhigh_hippo['Years_bl'],event_observed_A=AD_data_ZGPlow_hippo['death'], event_observed_B=AD_data_ZGPhigh_hippo['dead'])\n",
    "results.print_summary()"
   ]
  },
  {
   "cell_type": "code",
   "execution_count": null,
   "id": "7f860e7b",
   "metadata": {},
   "outputs": [],
   "source": [
    "def get_best_cutoff(data_ZGP,surv_col):\n",
    "    cutoff=0\n",
    "    p_val=0.9\n",
    "    final_cutoff=0\n",
    "    while cutoff>-3:\n",
    "        data_ZGPlow_hippo=data_ZGP.loc[data_ZGP['Z_hippo']<cutoff]\n",
    "        data_ZGPhigh_hippo=data_ZGP.loc[data_ZGP['Z_hippo']>=cutoff]\n",
    "\n",
    "\n",
    "        results=logrank_test(data_ZGPlow_hippo['Years_bl'],data_ZGPhigh_hippo['Years_bl'],event_observed_A=data_ZGPlow_hippo[f'{surv_col}'], event_observed_B=data_ZGPhigh_hippo[f'{surv_col}'])\n",
    "        current_p_val=results.p_value\n",
    "        if current_p_val<p_val:\n",
    "            p_val=current_p_val\n",
    "            final_cutoff=cutoff\n",
    "        cutoff=cutoff-0.1\n",
    "    return round(p_val,3), round(final_cutoff,3)"
   ]
  },
  {
   "cell_type": "code",
   "execution_count": null,
   "id": "c2453672",
   "metadata": {},
   "outputs": [],
   "source": [
    "AD_p_val,AD_final_cutoff=get_best_cutoff(AD_data_Reg,'death')\n",
    "AD_p_val,AD_final_cutoff"
   ]
  },
  {
   "cell_type": "code",
   "execution_count": null,
   "id": "b8fab339",
   "metadata": {},
   "outputs": [],
   "source": []
  },
  {
   "cell_type": "code",
   "execution_count": null,
   "id": "83e228c1",
   "metadata": {},
   "outputs": [],
   "source": [
    "#Use the best z-score cut-off\n",
    "AD_data_ZGPlow_hippo=AD_data_Reg.loc[AD_data_Reg['Z_hippo']<AD_final_cutoff]\n",
    "AD_data_ZGPhigh_hippo=AD_data_Reg.loc[AD_data_Reg['Z_hippo']>=AD_final_cutoff]\n",
    "\n",
    "km.fit(AD_data_ZGPlow_hippo['Years_bl'], AD_data_ZGPlow_hippo['death'], label='AD low hippo')\n",
    "a1 = km.plot()\n",
    "\n",
    "# fit the model for 2nd cohort\n",
    "km.fit(AD_data_ZGPhigh_hippo['Years_bl'],AD_data_ZGPhigh_hippo['death'], label='AD normal hippo')\n",
    "km.plot(ax=a1)"
   ]
  },
  {
   "cell_type": "code",
   "execution_count": null,
   "id": "86928fea",
   "metadata": {},
   "outputs": [],
   "source": [
    "AD_p_val,AD_final_cutoff=get_best_cutoff(AD_data_Reg,'Suvival')\n",
    "print(AD_p_val,AD_final_cutoff)\n",
    "AD_data_ZGPlow_hippo=AD_data_Reg.loc[AD_data_Reg['Z_hippo']<AD_final_cutoff]\n",
    "AD_data_ZGPhigh_hippo=AD_data_Reg.loc[AD_data_Reg['Z_hippo']>=AD_final_cutoff]\n",
    "\n",
    "km.fit(AD_data_ZGPlow_hippo['Years_bl'], AD_data_ZGPlow_hippo['Suvival'], label='AD low hippo')\n",
    "a1 = km.plot()\n",
    "\n",
    "# fit the model for 2nd cohort\n",
    "km.fit(AD_data_ZGPhigh_hippo['Years_bl'],AD_data_ZGPhigh_hippo['Suvival'], label='AD normal hippo')\n",
    "km.plot(ax=a1)"
   ]
  },
  {
   "cell_type": "code",
   "execution_count": null,
   "id": "8609b929",
   "metadata": {},
   "outputs": [],
   "source": [
    "LMCI_p_val,LMCI_final_cutoff=get_best_cutoff(LMCI_data_Reg,'death')\n",
    "LMCI_p_val,LMCI_final_cutoff"
   ]
  },
  {
   "cell_type": "code",
   "execution_count": null,
   "id": "fbb8f937",
   "metadata": {},
   "outputs": [],
   "source": [
    "LMCI_data_ZGPlow_hippo=LMCI_data_Reg.loc[LMCI_data_Reg['Z_hippo']<LMCI_final_cutoff]\n",
    "LMCI_data_ZGPhigh_hippo=LMCI_data_Reg.loc[LMCI_data_Reg['Z_hippo']>=LMCI_final_cutoff]\n",
    "\n",
    "km.fit(LMCI_data_ZGPlow_hippo['Years_bl'], LMCI_data_ZGPlow_hippo['death'], label='LMCI low hippo')\n",
    "a1 = km.plot()\n",
    "\n",
    "# fit the model for 2nd cohort\n",
    "km.fit(LMCI_data_ZGPhigh_hippo['Years_bl'], LMCI_data_ZGPhigh_hippo['death'], label='LMCI normal hippo')\n",
    "km.plot(ax=a1)"
   ]
  },
  {
   "cell_type": "code",
   "execution_count": null,
   "id": "5178ce2f",
   "metadata": {},
   "outputs": [],
   "source": [
    "results=logrank_test(LMCI_data_ZGPlow_hippo['Years_bl'],LMCI_data_ZGPhigh_hippo['Years_bl'],event_observed_A=LMCI_data_ZGPlow_hippo['death'], event_observed_B=LMCI_data_ZGPhigh_hippo['death'])\n",
    "results.print_summary()"
   ]
  },
  {
   "cell_type": "code",
   "execution_count": null,
   "id": "529578d0",
   "metadata": {},
   "outputs": [],
   "source": []
  }
 ],
 "metadata": {
  "kernelspec": {
   "display_name": "Python 3 (ipykernel)",
   "language": "python",
   "name": "python3"
  },
  "language_info": {
   "codemirror_mode": {
    "name": "ipython",
    "version": 3
   },
   "file_extension": ".py",
   "mimetype": "text/x-python",
   "name": "python",
   "nbconvert_exporter": "python",
   "pygments_lexer": "ipython3",
   "version": "3.9.5"
  }
 },
 "nbformat": 4,
 "nbformat_minor": 5
}
