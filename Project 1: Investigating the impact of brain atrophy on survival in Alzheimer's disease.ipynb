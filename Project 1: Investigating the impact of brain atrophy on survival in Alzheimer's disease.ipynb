{
 "cells": [
  {
   "cell_type": "code",
   "execution_count": null,
   "id": "fdb88183",
   "metadata": {},
   "outputs": [],
   "source": [
    "import numpy as np\n",
    "import pandas as pd\n",
    "import pandas_profiling\n",
    "import matplotlib.pyplot as plt\n",
    "import os, sys\n",
    "from lifelines import CoxPHFitter\n",
    "from lifelines import KaplanMeierFitter\n",
    "from datetime import datetime\n",
    "%matplotlib inline\n",
    "\n",
    "from sklearn.linear_model import LinearRegression\n",
    "from sklearn.gaussian_process import GaussianProcessRegressor\n",
    "from sklearn.gaussian_process.kernels import RBF, DotProduct, WhiteKernel, ConstantKernel as C\n",
    "from sklearn.preprocessing import StandardScaler"
   ]
  },
  {
   "cell_type": "code",
   "execution_count": null,
   "id": "a2d0cac7",
   "metadata": {},
   "outputs": [],
   "source": [
    "#Import the dataset\n",
    "ADNIMERGE0=pd.read_csv('ADNIMERGE.csv',low_memory=False)\n",
    "WD_Reason=pd.read_csv('WD_Reason_TREATDIS.csv',low_memory=False)\n",
    "ADNIMERGE=pd.merge(ADNIMERGE,WD_Reason,on='RID',how='inner')\n",
    "ADNIMERGE.AGE.hist()"
   ]
  },
  {
   "cell_type": "code",
   "execution_count": null,
   "id": "580faf1d",
   "metadata": {},
   "outputs": [],
   "source": [
    "#Check if any CN transform to LMCI or AD\n",
    "CN_to_LMCI=LMCI_data[LMCI_data['PTID'].isin(CN_data['PTID'])]\n",
    "CN_to_LMCI.shape"
   ]
  },
  {
   "cell_type": "code",
   "execution_count": null,
   "id": "fd16df20",
   "metadata": {},
   "outputs": [],
   "source": [
    "CN_to_AD=AD_data[AD_data['PTID'].isin(CN_data['PTID'])]\n",
    "CN_to_AD.shape"
   ]
  },
  {
   "cell_type": "code",
   "execution_count": null,
   "id": "e52f6639",
   "metadata": {},
   "outputs": [],
   "source": [
    "#Get list of subjects \n",
    "ADNIMERGE_subjs_list=ADNIMERGE.PTID.unique()"
   ]
  },
  {
   "cell_type": "code",
   "execution_count": null,
   "id": "692a5494",
   "metadata": {},
   "outputs": [],
   "source": [
    "#Create a function that gets the last entry or max years since baseline\n",
    "def get_max_idx(subjs_list,data):\n",
    "    max_idx_bl_years=[]\n",
    "    for subj in subjs_list:\n",
    "        df=data[data['PTID'].isin([f'{subj}'])]\n",
    "        subj_idx_max=df.Years_bl.idxmax()\n",
    "        max_idx_bl_years.append(subj_idx_max)\n",
    "    return max_idx_bl_years"
   ]
  },
  {
   "cell_type": "code",
   "execution_count": null,
   "id": "9659f200",
   "metadata": {},
   "outputs": [],
   "source": [
    "ADNIMERGE_max_idx_bl_years=get_max_idx(CN_subjs_list,CN_data)"
   ]
  },
  {
   "cell_type": "code",
   "execution_count": null,
   "id": "b95d55e4",
   "metadata": {},
   "outputs": [],
   "source": [
    "#Assign Survival=1 to the max years since baseline or 0 otherwise\n",
    "ADNIMERGE['Suvival']=0\n",
    "ADNIMERGE.loc[ADNIMERGE_max_idx_bl_years,'Suvival']=1\n"
   ]
  },
  {
   "cell_type": "code",
   "execution_count": null,
   "id": "917f8f2f",
   "metadata": {},
   "outputs": [],
   "source": []
  },
  {
   "cell_type": "code",
   "execution_count": null,
   "id": "db00ce03",
   "metadata": {},
   "outputs": [],
   "source": [
    "#Check if subject' death is recorded and create new column as 'dead'\n",
    "ADNIMERGE_dead_idx=ADNIMERGE.index[(ADNIMERGE['Suvival'] == 1) &  (ADNIMERGE['WDREASON']=='2')].tolist()\n",
    "ADNIMERGE['dead']=0\n",
    "ADNIMERGE.loc[ADNIMERGE_dead_idx,'dead']=1"
   ]
  },
  {
   "cell_type": "code",
   "execution_count": null,
   "id": "28b0c61e",
   "metadata": {},
   "outputs": [],
   "source": [
    "ADNIMERGE_dead_idx"
   ]
  },
  {
   "cell_type": "code",
   "execution_count": null,
   "id": "1bc06b05",
   "metadata": {},
   "outputs": [],
   "source": [
    "CN_data=ADNIMERGE[ADNIMERGE['DX_bl'].isin(['CN'])]\n",
    "CN_data.shape\n",
    "LMCI_data=ADNIMERGE[ADNIMERGE['DX_bl'].isin(['LMCI'])]\n",
    "LMCI_data.shape\n",
    "AD_data=ADNIMERGE[ADNIMERGE['DX_bl'].isin(['AD'])]\n",
    "AD_data.shape"
   ]
  },
  {
   "cell_type": "code",
   "execution_count": null,
   "id": "2a7b01b3",
   "metadata": {},
   "outputs": [],
   "source": [
    "ADNIMERGE['Suvival'].value_counts()"
   ]
  },
  {
   "cell_type": "code",
   "execution_count": null,
   "id": "b42fc4c5",
   "metadata": {},
   "outputs": [],
   "source": [
    "ADNIMERGE['dead'].value_counts()"
   ]
  },
  {
   "cell_type": "code",
   "execution_count": null,
   "id": "f98413f4",
   "metadata": {},
   "outputs": [],
   "source": [
    "km = KaplanMeierFitter() \n",
    "km.fit(CN_data['Years_bl'], CN_data['Suvival'], label='CN survival')\n",
    "a1 = km.plot()\n",
    "\n",
    "km.fit(LMCI_data['Years_bl'], LMCI_data['Suvival'], label='LMCI survival')\n",
    "a2=km.plot(ax=a1)\n",
    "\n",
    "km.fit(AD_data['Years_bl'], AD_data['Suvival'], label='AD survival')\n",
    "km.plot(ax=a2)"
   ]
  },
  {
   "cell_type": "code",
   "execution_count": null,
   "id": "71e57a28",
   "metadata": {},
   "outputs": [],
   "source": [
    "km = KaplanMeierFitter() \n",
    "km.fit(CN_data['Years_bl'], CN_data['dead'], label='CN survival')\n",
    "a1 = km.plot()\n",
    "\n",
    "km.fit(LMCI_data['Years_bl'], LMCI_data['dead'], label='LMCI survival')\n",
    "a2=km.plot(ax=a1)\n",
    "\n",
    "km.fit(AD_data['Years_bl'], AD_data['dead'], label='AD survival')\n",
    "km.plot(ax=a2)"
   ]
  },
  {
   "cell_type": "code",
   "execution_count": null,
   "id": "6308130e",
   "metadata": {},
   "outputs": [],
   "source": [
    "km = KaplanMeierFitter() \n",
    "km.fit(CN_data['Years_bl'], CN_data['dead'], label='CN survival')\n",
    "km.event_table"
   ]
  },
  {
   "cell_type": "code",
   "execution_count": null,
   "id": "f1ff1eb8",
   "metadata": {},
   "outputs": [],
   "source": [
    "km.predict([0.0001,3,6,10,15,20])"
   ]
  },
  {
   "cell_type": "code",
   "execution_count": null,
   "id": "db249ba8",
   "metadata": {},
   "outputs": [],
   "source": [
    "km = KaplanMeierFitter() \n",
    "km.fit(LMCI_data['Years_bl'], LMCI_data['dead'], label='LMCI survival')\n",
    "km.event_table"
   ]
  },
  {
   "cell_type": "code",
   "execution_count": null,
   "id": "86478793",
   "metadata": {},
   "outputs": [],
   "source": [
    "km = KaplanMeierFitter() \n",
    "km.fit(AD_data['Years_bl'], AD_data['dead'], label='AD survival')\n",
    "km.event_table"
   ]
  },
  {
   "cell_type": "code",
   "execution_count": null,
   "id": "ec47ab33",
   "metadata": {},
   "outputs": [],
   "source": [
    "list(km.event_table.index.values) "
   ]
  },
  {
   "cell_type": "code",
   "execution_count": null,
   "id": "b220de86",
   "metadata": {},
   "outputs": [],
   "source": [
    "def cal_surv_prob(years):\n",
    "    event_at_3yrs=km.event_table.loc[[years]]\n",
    "    surv_at_3yrs=(event_at_3yrs.at_risk-event_at_3yrs.observed)/event_at_3yrs.at_risk\n",
    "    return surv_at_3yrs"
   ]
  },
  {
   "cell_type": "code",
   "execution_count": null,
   "id": "3ecdabab",
   "metadata": {},
   "outputs": [],
   "source": [
    "surv_at_3yrs=cal_surv_prob(3.00068)\n",
    "surv_at_3yrs"
   ]
  },
  {
   "cell_type": "code",
   "execution_count": null,
   "id": "51c64c22",
   "metadata": {},
   "outputs": [],
   "source": [
    "surv_at_7yrs=cal_surv_prob(7.36208)\n",
    "surv_at_7yrs"
   ]
  },
  {
   "cell_type": "code",
   "execution_count": null,
   "id": "2be1c3cd",
   "metadata": {},
   "outputs": [],
   "source": [
    "km.predict([0.0001,3,6,10,15,20])"
   ]
  },
  {
   "cell_type": "code",
   "execution_count": null,
   "id": "b8ad0497",
   "metadata": {},
   "outputs": [],
   "source": [
    "from lifelines import CoxPHFitter\n",
    "data_cox_hz=AD_data[['APOE4','Ventricles','Hippocampus','WholeBrain','Entorhinal','Fusiform','MidTemp','Years_bl','Suvival','AGE','ICV','dead']]\n",
    "data_cox_hz=data_cox_hz.dropna()\n",
    "cph=CoxPHFitter()\n",
    "cph.fit(data_cox_hz,'Years_bl',event_col='dead')\n",
    "cph.print_summary()"
   ]
  },
  {
   "cell_type": "code",
   "execution_count": null,
   "id": "18175730",
   "metadata": {},
   "outputs": [],
   "source": [
    "CN_data_covs=CN_data[['AGE','ICV','Ventricles','Hippocampus','WholeBrain','Entorhinal','Fusiform','MidTemp','dead']]\n",
    "CN_data_covs=CN_data_covs.dropna()\n",
    "\n",
    "LMCI_data_covs=LMCI_data[['Years_bl','Suvival','AGE','ICV','Ventricles','Hippocampus','WholeBrain','Entorhinal','Fusiform','MidTemp','dead']]\n",
    "LMCI_data_covs=LMCI_data_covs.dropna()"
   ]
  },
  {
   "cell_type": "code",
   "execution_count": null,
   "id": "d95db99d",
   "metadata": {},
   "outputs": [],
   "source": [
    "AD_data_covs=AD_data[['Years_bl','Suvival','AGE','ICV','Ventricles','Hippocampus','WholeBrain','Entorhinal','Fusiform','MidTemp','dead']]\n",
    "AD_data_covs=AD_data_covs.dropna()"
   ]
  },
  {
   "cell_type": "code",
   "execution_count": null,
   "id": "67e23f8b",
   "metadata": {},
   "outputs": [],
   "source": [
    "#Define function to regress covariates from regions of interest \n",
    "def fitNormGP(mydf, cov, yname):\n",
    "    use_kernel = C() * RBF() + WhiteKernel(noise_level_bounds=(1e-06, 100000.0))\n",
    "    myGPR = GaussianProcessRegressor(n_restarts_optimizer=5, kernel=use_kernel, normalize_y=True)\n",
    "    \n",
    "    X = mydf.loc[:, cov]\n",
    "    tmp_scale = StandardScaler()\n",
    "    Xsc = tmp_scale.fit_transform(X)\n",
    "    \n",
    "    y = mydf.loc[:, yname]\n",
    "    \n",
    "    myGPR.fit(Xsc, y)\n",
    "    \n",
    "    res = {}\n",
    "    res['target'] = yname\n",
    "    res['cov'] = cov\n",
    "    res['scaler'] = tmp_scale\n",
    "    res['GPR'] = myGPR\n",
    "    return(res)\n",
    "\n"
   ]
  },
  {
   "cell_type": "code",
   "execution_count": null,
   "id": "eae9af6c",
   "metadata": {},
   "outputs": [],
   "source": [
    "#Define function to compute z-scores relative to controls\n",
    "def feat2z(mydf, gpmodel):\n",
    "    #assert(gpmodel['target'] == yname)\n",
    "    yname = gpmodel['target']\n",
    "    cov = gpmodel['cov']\n",
    "    X = mydf.loc[:,cov]\n",
    "    y = mydf.loc[:, yname]\n",
    "    \n",
    "    Xinp = gpmodel['scaler'].transform(X)\n",
    "    \n",
    "    means, sds = gpmodel['GPR'].predict(Xinp, return_std=True)\n",
    "    \n",
    "    myz = (y-means)/sds\n",
    "    \n",
    "    return(myz)"
   ]
  },
  {
   "cell_type": "code",
   "execution_count": null,
   "id": "4929f1fc",
   "metadata": {},
   "outputs": [],
   "source": [
    "#Make a list of features whose covs you want to regress out\n",
    "tfeat=['Ventricles','Hippocampus','WholeBrain','Entorhinal','Fusiform','MidTemp']\n",
    "\n",
    "LMCI_data_ZGP=LMCI_data_covs[['Years_bl','Suvival','AGE','ICV','Ventricles','Hippocampus','WholeBrain','Entorhinal','Fusiform','MidTemp','dead']]\n",
    "for fff in tfeat:\n",
    "    sys.stderr.write(\"Estimating model for \" + fff + \"\\n\" )\n",
    "    tmp_mod = fitNormGP(CN_data_covs, ['AGE','ICV'], fff)\n",
    "    tmpz    = feat2z(LMCI_data_covs, tmp_mod)\n",
    "    LMCI_data_ZGP.loc[:,fff] = tmpz"
   ]
  },
  {
   "cell_type": "code",
   "execution_count": null,
   "id": "bce200c9",
   "metadata": {},
   "outputs": [],
   "source": [
    "\n",
    "AD_data_ZGP=AD_data_covs[['Years_bl','Suvival','AGE','ICV','Ventricles','Hippocampus','WholeBrain','Entorhinal','Fusiform','MidTemp','dead']]\n",
    "for fff in tfeat:\n",
    "    sys.stderr.write(\"Estimating model for \" + fff + \"\\n\" )\n",
    "    tmp_mod = fitNormGP(CN_data_covs, ['AGE','ICV'], fff)\n",
    "    tmpz    = feat2z(AD_data_covs, tmp_mod)\n",
    "    AD_data_ZGP.loc[:,fff] = tmpz"
   ]
  },
  {
   "cell_type": "code",
   "execution_count": null,
   "id": "90d787c5",
   "metadata": {},
   "outputs": [],
   "source": [
    "LMCI_data_ZGPlow_hippo=LMCI_data_ZGP.loc[LMCI_data_ZGP['Hippocampus']<-1.63]\n",
    "LMCI_data_ZGPhigh_hippo=LMCI_data_ZGP.loc[LMCI_data_ZGP['Hippocampus']>=-1.63]\n",
    "\n",
    "km.fit(LMCI_data_ZGPlow_hippo['Years_bl'], LMCI_data_ZGPlow_hippo['dead'], label='LMCI low hippo')\n",
    "a1 = km.plot()\n",
    "\n",
    "# fit the model for 2nd cohort\n",
    "km.fit(LMCI_data_ZGPhigh_hippo['Years_bl'], LMCI_data_ZGPhigh_hippo['dead'], label='LMCI normal hippo')\n",
    "km.plot(ax=a1)"
   ]
  },
  {
   "cell_type": "code",
   "execution_count": null,
   "id": "2bb1de62",
   "metadata": {},
   "outputs": [],
   "source": [
    "#Build a Cox proportional hazard model to investigate the relationship between survival time of a patient and regional atrophy \n",
    "data_cox_hz=AD_data_ZGP[['Ventricles','Hippocampus','WholeBrain','Entorhinal','Fusiform','MidTemp','Years_bl','Suvival','AGE','ICV','dead']]\n",
    "data_cox_hz=data_cox_hz.dropna()\n",
    "cph=CoxPHFitter()\n",
    "cph.fit(data_cox_hz,'Years_bl',event_col='dead')\n",
    "cph.print_summary()"
   ]
  },
  {
   "cell_type": "code",
   "execution_count": null,
   "id": "f19e9d3a",
   "metadata": {},
   "outputs": [],
   "source": [
    "from lifelines.statistics import logrank_test\n",
    "results=logrank_test(LMCI_data_ZGPlow_hippo['Years_bl'],LMCI_data_ZGPhigh_hippo['Years_bl'],event_observed_A=LMCI_data_ZGPlow_hippo['Suvival'], event_observed_B=LMCI_data_ZGPhigh_hippo['Suvival'])\n",
    "results.print_summary()"
   ]
  },
  {
   "cell_type": "code",
   "execution_count": null,
   "id": "b1e10af7",
   "metadata": {},
   "outputs": [],
   "source": [
    "results.p_value"
   ]
  },
  {
   "cell_type": "code",
   "execution_count": null,
   "id": "ddedbfe7",
   "metadata": {},
   "outputs": [],
   "source": [
    "AD_data_ZGPlow_hippo=AD_data_ZGP.loc[AD_data_ZGP['Hippocampus']<-1.63]\n",
    "AD_data_ZGPhigh_hippo=AD_data_ZGP.loc[AD_data_ZGP['Hippocampus']>=-1.63]\n",
    "\n",
    "km.fit(AD_data_ZGPlow_hippo['Years_bl'], AD_data_ZGPlow_hippo['dead'], label='AD low hippo')\n",
    "a1 = km.plot()\n",
    "\n",
    "# fit the model for 2nd cohort\n",
    "km.fit(AD_data_ZGPhigh_hippo['Years_bl'],AD_data_ZGPhigh_hippo['dead'], label='AD normal hippo')\n",
    "km.plot(ax=a1)"
   ]
  },
  {
   "cell_type": "code",
   "execution_count": null,
   "id": "a6628ced",
   "metadata": {},
   "outputs": [],
   "source": [
    "results=logrank_test(AD_data_ZGPlow_hippo['Years_bl'],AD_data_ZGPhigh_hippo['Years_bl'],event_observed_A=AD_data_ZGPlow_hippo['dead'], event_observed_B=AD_data_ZGPhigh_hippo['dead'])\n",
    "results.print_summary()"
   ]
  },
  {
   "cell_type": "code",
   "execution_count": null,
   "id": "7f860e7b",
   "metadata": {},
   "outputs": [],
   "source": [
    "def get_best_cutoff(data_ZGP):\n",
    "    cutoff=0\n",
    "    p_val=0.9\n",
    "    final_cutoff=0\n",
    "    while cutoff>-3:\n",
    "        data_ZGPlow_hippo=data_ZGP.loc[data_ZGP['Hippocampus']<cutoff]\n",
    "        data_ZGPhigh_hippo=data_ZGP.loc[data_ZGP['Hippocampus']>=cutoff]\n",
    "\n",
    "        results=logrank_test(data_ZGPlow_hippo['Years_bl'],data_ZGPhigh_hippo['Years_bl'],event_observed_A=data_ZGPlow_hippo['dead'], event_observed_B=data_ZGPhigh_hippo['dead'])\n",
    "        current_p_val=results.p_value\n",
    "        if current_p_val<p_val:\n",
    "            p_val=current_p_val\n",
    "            final_cutoff=cutoff\n",
    "        cutoff=cutoff-0.1\n",
    "    return round(p_val,3), round(final_cutoff,3)"
   ]
  },
  {
   "cell_type": "code",
   "execution_count": null,
   "id": "c2453672",
   "metadata": {},
   "outputs": [],
   "source": [
    "AD_p_val,AD_final_cutoff=get_best_cutoff(AD_data_ZGP)\n",
    "AD_p_val,AD_final_cutoff"
   ]
  },
  {
   "cell_type": "code",
   "execution_count": null,
   "id": "b8fab339",
   "metadata": {},
   "outputs": [],
   "source": []
  },
  {
   "cell_type": "code",
   "execution_count": null,
   "id": "83e228c1",
   "metadata": {},
   "outputs": [],
   "source": [
    "AD_data_ZGPlow_hippo=AD_data_ZGP.loc[AD_data_ZGP['Hippocampus']<AD_final_cutoff]\n",
    "AD_data_ZGPhigh_hippo=AD_data_ZGP.loc[AD_data_ZGP['Hippocampus']>=AD_final_cutoff]\n",
    "\n",
    "km.fit(AD_data_ZGPlow_hippo['Years_bl'], AD_data_ZGPlow_hippo['dead'], label='AD low hippo')\n",
    "a1 = km.plot()\n",
    "\n",
    "# fit the model for 2nd cohort\n",
    "km.fit(AD_data_ZGPhigh_hippo['Years_bl'],AD_data_ZGPhigh_hippo['dead'], label='AD normal hippo')\n",
    "km.plot(ax=a1)"
   ]
  },
  {
   "cell_type": "code",
   "execution_count": null,
   "id": "8609b929",
   "metadata": {},
   "outputs": [],
   "source": [
    "LMCI_p_val,LMCI_final_cutoff=get_best_cutoff(LMCI_data_ZGP)\n",
    "LMCI_p_val,LMCI_final_cutoff"
   ]
  },
  {
   "cell_type": "code",
   "execution_count": null,
   "id": "fbb8f937",
   "metadata": {},
   "outputs": [],
   "source": [
    "LMCI_data_ZGPlow_hippo=LMCI_data_ZGP.loc[LMCI_data_ZGP['Hippocampus']<LMCI_final_cutoff]\n",
    "LMCI_data_ZGPhigh_hippo=LMCI_data_ZGP.loc[LMCI_data_ZGP['Hippocampus']>=LMCI_final_cutoff]\n",
    "\n",
    "km.fit(LMCI_data_ZGPlow_hippo['Years_bl'], LMCI_data_ZGPlow_hippo['dead'], label='LMCI low hippo')\n",
    "a1 = km.plot()\n",
    "\n",
    "# fit the model for 2nd cohort\n",
    "km.fit(LMCI_data_ZGPhigh_hippo['Years_bl'], LMCI_data_ZGPhigh_hippo['dead'], label='LMCI normal hippo')\n",
    "km.plot(ax=a1)"
   ]
  },
  {
   "cell_type": "code",
   "execution_count": null,
   "id": "5178ce2f",
   "metadata": {},
   "outputs": [],
   "source": [
    "LMCI_data_ZGPlow_hippo.shape"
   ]
  },
  {
   "cell_type": "code",
   "execution_count": null,
   "id": "09bc0504",
   "metadata": {},
   "outputs": [],
   "source": [
    "LMCI_data_ZGPhigh_hippo.shape"
   ]
  },
  {
   "cell_type": "code",
   "execution_count": null,
   "id": "6252f70d",
   "metadata": {},
   "outputs": [],
   "source": []
  }
 ],
 "metadata": {
  "kernelspec": {
   "display_name": "Python 3 (ipykernel)",
   "language": "python",
   "name": "python3"
  },
  "language_info": {
   "codemirror_mode": {
    "name": "ipython",
    "version": 3
   },
   "file_extension": ".py",
   "mimetype": "text/x-python",
   "name": "python",
   "nbconvert_exporter": "python",
   "pygments_lexer": "ipython3",
   "version": "3.9.5"
  }
 },
 "nbformat": 4,
 "nbformat_minor": 5
}
