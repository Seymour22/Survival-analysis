The genotype data from ADNI comes in the .bed, .bim, and .fam formats.

First, we check for consistency of sex assignments, as well as to inspect the subject-level missingness rates. This can be acheived by running the
following commands


Seymours-MBP:ADNI_GO_2_OmniExpress seymour$ ./plink --bfile ADNI_GO_2_Forward_Bin --check-sex
Seymours-MBP:ADNI_GO_2_OmniExpress seymour$ plink --bfile ADNI_GO_2_Forward_Bin --missing

The two new files plink.sexcheck and plink.imiss will indicate the sex mismatch and %of genotypes missing. Typically we, remove subjects that do not pass 
this QC step. 
