{
 "cells": [
  {
   "cell_type": "markdown",
   "id": "788c62d3",
   "metadata": {},
   "source": [
    "## Preprocessing steps for GWAS using PLINK\n",
    "\n",
    "\n"
   ]
  },
  {
   "cell_type": "markdown",
   "id": "21024360",
   "metadata": {},
   "source": [
    "### 1) QC by deleting subjects with missing values"
   ]
  },
  {
   "cell_type": "markdown",
   "id": "1cfa601a",
   "metadata": {},
   "source": [
    "The genotype data from ADNI comes in the .bed, .bim, and .fam formats.\n",
    "\n",
    "The following command can exclude subjects with missing values above the specified threshold.\n",
    "\n",
    "\n"
   ]
  },
  {
   "cell_type": "markdown",
   "id": "d777c56d",
   "metadata": {},
   "source": [
    "```\n",
    "plink --bfile ADNI_GO_2_Forward_Bin --check-sex --geno 0.1 --mind 0.1 --maf 0.05 --hwe 0.0000001 --make-bed --out ADNI_AfterQC\n",
    "\n",
    "```"
   ]
  },
  {
   "cell_type": "markdown",
   "id": "70a41f9d",
   "metadata": {},
   "source": [
    "### 2) QC by imputing missing values"
   ]
  },
  {
   "cell_type": "markdown",
   "id": "28c00487",
   "metadata": {},
   "source": [
    "We may also choose to impute missing values instead. This can be done using the Sanger Imputation Service available at https://imputation.sanger.ac.uk/ "
   ]
  },
  {
   "cell_type": "markdown",
   "id": "19f353f2",
   "metadata": {},
   "source": [
    "Prior to uploading the files to the Sanger server, we prep the data into the .vcf format using the following steps"
   ]
  },
  {
   "cell_type": "markdown",
   "id": "967e8ac7",
   "metadata": {},
   "source": [
    "```\n",
    "plink --bfile ADNI_GO_2_Forward_Bin --freq\n",
    "perl HRC-1000G-check-bim.pl -b ADNI_GO_2_Forward_Bin.bim -f plink.frq -r HRC.r1-1.GRCh37.wgs.mac5.sites.tab -h\n",
    "\n",
    "```"
   ]
  },
  {
   "cell_type": "markdown",
   "id": "efba7d98",
   "metadata": {},
   "source": [
    "Comment or delete all the plink calls to split the final file by chromosome in the Run-plink.sh file. Add the following as the last in the same file"
   ]
  },
  {
   "cell_type": "markdown",
   "id": "a68d401a",
   "metadata": {},
   "source": [
    "```\n",
    "plink --bfile TEMP4 --a2-allele Force-Allele1-ADNI_GO_2_Forward_Bin-HRC.txt --autosome --recode vcf-iid bgz --out ADNI_GO_2_Forward_Bin-updated\n",
    "```"
   ]
  },
  {
   "cell_type": "markdown",
   "id": "24ac09bc",
   "metadata": {},
   "source": [
    "Check if the resulting ADNI_GO_2_Forward_Bin-updated.vcf file is in the format expected by the Sanger server"
   ]
  },
  {
   "cell_type": "markdown",
   "id": "1507e94d",
   "metadata": {},
   "source": [
    "```\n",
    "python checkVCF.py -r hs37d5.fa -o test ADNI_GO_2_Forward_Bin-updated.vcf.gz\n",
    "```"
   ]
  },
  {
   "cell_type": "markdown",
   "id": "f46940eb",
   "metadata": {},
   "source": [
    "The file can now be uploaded to the Sanger server for imputation (https://imputation.sanger.ac.uk/)"
   ]
  },
  {
   "cell_type": "code",
   "execution_count": null,
   "id": "82e9ffef",
   "metadata": {},
   "outputs": [],
   "source": []
  }
 ],
 "metadata": {
  "kernelspec": {
   "display_name": "Python 3 (ipykernel)",
   "language": "python",
   "name": "python3"
  },
  "language_info": {
   "codemirror_mode": {
    "name": "ipython",
    "version": 3
   },
   "file_extension": ".py",
   "mimetype": "text/x-python",
   "name": "python",
   "nbconvert_exporter": "python",
   "pygments_lexer": "ipython3",
   "version": "3.9.5"
  }
 },
 "nbformat": 4,
 "nbformat_minor": 5
}
