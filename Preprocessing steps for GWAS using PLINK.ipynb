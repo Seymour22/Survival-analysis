{
 "cells": [
  {
   "cell_type": "markdown",
   "id": "dd7c9b90",
   "metadata": {},
   "source": [
    "## Preprocessing steps for GWAS using PLINK\n",
    "\n",
    "\n"
   ]
  },
  {
   "cell_type": "markdown",
   "id": "8efd9948",
   "metadata": {},
   "source": [
    "The genotype data from ADNI comes in the .bed, .bim, and .fam formats.\n",
    "\n",
    "First, we check for consistency of sex assignments, as well as to inspect the subject-level missingness rates. This can be acheived by running the\n",
    "following commands\n",
    "\n",
    "\n"
   ]
  },
  {
   "cell_type": "raw",
   "id": "7821666a",
   "metadata": {},
   "source": [
    "Seymours-MBP:ADNI_GO_2_OmniExpress seymour$ plink --bfile ADNI_GO_2_Forward_Bin --check-sex\n",
    "Seymours-MBP:ADNI_GO_2_OmniExpress seymour$ plink --bfile ADNI_GO_2_Forward_Bin --missing"
   ]
  },
  {
   "cell_type": "markdown",
   "id": "4dccabb8",
   "metadata": {},
   "source": [
    "\n",
    "The two new files plink.sexcheck and plink.imiss will indicate the sex mismatch and %of genotypes missing. Typically we, remove subjects that do not pass \n",
    "this QC step. "
   ]
  },
  {
   "cell_type": "code",
   "execution_count": null,
   "id": "94cbd996",
   "metadata": {},
   "outputs": [],
   "source": []
  }
 ],
 "metadata": {
  "kernelspec": {
   "display_name": "Python 3 (ipykernel)",
   "language": "python",
   "name": "python3"
  },
  "language_info": {
   "codemirror_mode": {
    "name": "ipython",
    "version": 3
   },
   "file_extension": ".py",
   "mimetype": "text/x-python",
   "name": "python",
   "nbconvert_exporter": "python",
   "pygments_lexer": "ipython3",
   "version": "3.9.5"
  }
 },
 "nbformat": 4,
 "nbformat_minor": 5
}
