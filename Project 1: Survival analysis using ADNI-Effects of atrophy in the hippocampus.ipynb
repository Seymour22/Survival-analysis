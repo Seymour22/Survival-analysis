{
 "cells": [
  {
   "cell_type": "code",
   "execution_count": null,
   "id": "20231ed8",
   "metadata": {},
   "outputs": [],
   "source": [
    "import numpy as np\n",
    "import pandas as pd\n",
    "import pandas_profiling\n",
    "import matplotlib.pyplot as plt\n",
    "import os, sys\n",
    "from lifelines import CoxPHFitter\n",
    "from lifelines import KaplanMeierFitter\n",
    "from datetime import datetime\n",
    "%matplotlib inline\n",
    "\n",
    "from sklearn.linear_model import LinearRegression\n",
    "from sklearn.gaussian_process import GaussianProcessRegressor\n",
    "from sklearn.gaussian_process.kernels import RBF, DotProduct, WhiteKernel, ConstantKernel as C\n",
    "from sklearn.preprocessing import StandardScaler"
   ]
  },
  {
   "cell_type": "code",
   "execution_count": null,
   "id": "da511037",
   "metadata": {},
   "outputs": [],
   "source": [
    "def fitNormGP(mydf, cov, yname):\n",
    "    use_kernel = C() * RBF() + WhiteKernel(noise_level_bounds=(1e-06, 100000.0))\n",
    "    myGPR = GaussianProcessRegressor(n_restarts_optimizer=5, kernel=use_kernel, normalize_y=True)\n",
    "    \n",
    "    X = mydf.loc[:, cov]\n",
    "    tmp_scale = StandardScaler()\n",
    "    Xsc = tmp_scale.fit_transform(X)\n",
    "    \n",
    "    y = mydf.loc[:, yname]\n",
    "    \n",
    "    myGPR.fit(Xsc, y)\n",
    "    \n",
    "    res = {}\n",
    "    res['target'] = yname\n",
    "    res['cov'] = cov\n",
    "    res['scaler'] = tmp_scale\n",
    "    res['GPR'] = myGPR\n",
    "    return(res)"
   ]
  },
  {
   "cell_type": "code",
   "execution_count": null,
   "id": "f59aab39",
   "metadata": {},
   "outputs": [],
   "source": [
    "def feat2z(mydf, gpmodel):\n",
    "    #assert(gpmodel['target'] == yname)\n",
    "    yname = gpmodel['target']\n",
    "    cov = gpmodel['cov']\n",
    "    X = mydf.loc[:,cov]\n",
    "    y = mydf.loc[:, yname]\n",
    "    \n",
    "    Xinp = gpmodel['scaler'].transform(X)\n",
    "    \n",
    "    means, sds = gpmodel['GPR'].predict(Xinp, return_std=True)\n",
    "    \n",
    "    myz = (y-means)/sds\n",
    "    \n",
    "    return(myz)"
   ]
  },
  {
   "cell_type": "code",
   "execution_count": null,
   "id": "79eac7fd",
   "metadata": {},
   "outputs": [],
   "source": [
    "tfeat=['Hippocampus']"
   ]
  },
  {
   "cell_type": "code",
   "execution_count": null,
   "id": "b8a78714",
   "metadata": {},
   "outputs": [],
   "source": [
    "ADNIMERGE=pd.read_csv('ADNIMERGE.csv',low_memory=False)\n",
    "ADNIMERGE.Years_bl.hist(bins=range(0,20,1))"
   ]
  },
  {
   "cell_type": "code",
   "execution_count": null,
   "id": "c3b33024",
   "metadata": {},
   "outputs": [],
   "source": [
    "CN_data=ADNIMERGE[ADNIMERGE['DX_bl'].isin(['CN'])]\n",
    "CN_data.shape"
   ]
  },
  {
   "cell_type": "code",
   "execution_count": null,
   "id": "9aa4c9b0",
   "metadata": {},
   "outputs": [],
   "source": [
    "LMCI_data=ADNIMERGE[ADNIMERGE['DX_bl'].isin(['LMCI'])]\n",
    "LMCI_data.shape"
   ]
  },
  {
   "cell_type": "code",
   "execution_count": null,
   "id": "8c8ed709",
   "metadata": {},
   "outputs": [],
   "source": [
    "AD_data=ADNIMERGE[ADNIMERGE['DX_bl'].isin(['AD'])]\n",
    "AD_data.shape"
   ]
  },
  {
   "cell_type": "code",
   "execution_count": null,
   "id": "10b82b6e",
   "metadata": {},
   "outputs": [],
   "source": [
    "#Check if any CN transform to LMCI or AD\n",
    "CN_to_LMCI=LMCI_data[LMCI_data['PTID'].isin(CN_data['PTID'])]\n",
    "CN_to_LMCI.shape"
   ]
  },
  {
   "cell_type": "code",
   "execution_count": null,
   "id": "6477d3e2",
   "metadata": {},
   "outputs": [],
   "source": [
    "CN_to_AD=AD_data[AD_data['PTID'].isin(CN_data['PTID'])]\n",
    "CN_to_AD.shape"
   ]
  },
  {
   "cell_type": "code",
   "execution_count": null,
   "id": "1f455e2c",
   "metadata": {},
   "outputs": [],
   "source": [
    "CN_subjs_list=CN_data.PTID.unique()\n",
    "LMCI_subjs_list=LMCI_data.PTID.unique()\n",
    "AD_subjs_list=AD_data.PTID.unique()"
   ]
  },
  {
   "cell_type": "code",
   "execution_count": null,
   "id": "dc0c87e0",
   "metadata": {},
   "outputs": [],
   "source": [
    "def get_max_idx(subjs_list,data):\n",
    "    max_idx_bl_years=[]\n",
    "    for subj in subjs_list:\n",
    "        df=data[data['PTID'].isin([f'{subj}'])]\n",
    "        subj_idx_max=df.Years_bl.idxmax()\n",
    "        max_idx_bl_years.append(subj_idx_max)\n",
    "    return max_idx_bl_years"
   ]
  },
  {
   "cell_type": "code",
   "execution_count": null,
   "id": "6117b798",
   "metadata": {},
   "outputs": [],
   "source": [
    "CN_max_idx_bl_years=get_max_idx(CN_subjs_list,CN_data)\n",
    "LMCI_max_idx_bl_years=get_max_idx(LMCI_subjs_list,LMCI_data)\n",
    "AD_max_idx_bl_years=get_max_idx(AD_subjs_list,AD_data)"
   ]
  },
  {
   "cell_type": "code",
   "execution_count": null,
   "id": "5115615d",
   "metadata": {},
   "outputs": [],
   "source": [
    "CN_data['Suvival']=0\n",
    "LMCI_data['Suvival']=0\n",
    "AD_data['Suvival']=0\n",
    "\n",
    "CN_data.loc[CN_max_idx_bl_years,'Suvival']=1\n",
    "LMCI_data.loc[LMCI_max_idx_bl_years,'Suvival']=1\n",
    "AD_data.loc[AD_max_idx_bl_years,'Suvival']=1"
   ]
  },
  {
   "cell_type": "code",
   "execution_count": null,
   "id": "777a9c76",
   "metadata": {},
   "outputs": [],
   "source": [
    "\n",
    "km.fit(CN_data['Years_bl'], CN_data['Suvival'], label='CN survival')\n",
    "a1 = km.plot()\n",
    "\n",
    "km.fit(LMCI_data['Years_bl'], LMCI_data['Suvival'], label='LMCI survival')\n",
    "a2=km.plot(ax=a1)\n",
    "\n",
    "km.fit(AD_data['Years_bl'], AD_data['Suvival'], label='AD survival')\n",
    "km.plot(ax=a2)"
   ]
  },
  {
   "cell_type": "code",
   "execution_count": null,
   "id": "41c7d7a3",
   "metadata": {},
   "outputs": [],
   "source": [
    "CN_data_covs=CN_data[['AGE','ICV','Hippocampus']]\n",
    "CN_data_covs=CN_data_covs.dropna()\n",
    "\n",
    "LMCI_data_covs=LMCI_data[['Years_bl','Suvival','AGE','ICV','Hippocampus']]\n",
    "LMCI_data_covs=LMCI_data_covs.dropna()"
   ]
  },
  {
   "cell_type": "code",
   "execution_count": null,
   "id": "bd876a91",
   "metadata": {},
   "outputs": [],
   "source": [
    "AD_data_covs=AD_data[['Years_bl','Suvival','AGE','ICV','Hippocampus']]\n",
    "AD_data_covs=AD_data_covs.dropna()"
   ]
  },
  {
   "cell_type": "code",
   "execution_count": null,
   "id": "fe5996a5",
   "metadata": {},
   "outputs": [],
   "source": [
    "LMCI_data_ZGP=LMCI_data_covs[['Years_bl','Suvival','AGE','ICV','Hippocampus']]\n",
    "for fff in tfeat:\n",
    "    sys.stderr.write(\"Estimating model for \" + fff + \"\\n\" )\n",
    "    tmp_mod = fitNormGP(CN_data_covs, ['AGE','ICV'], fff)\n",
    "    tmpz    = feat2z(LMCI_data_covs, tmp_mod)\n",
    "    LMCI_data_ZGP.loc[:,fff] = tmpz"
   ]
  },
  {
   "cell_type": "code",
   "execution_count": null,
   "id": "cb0a55bd",
   "metadata": {},
   "outputs": [],
   "source": [
    "AD_data_ZGP=AD_data_covs[['Years_bl','Suvival','AGE','ICV','Hippocampus']]\n",
    "for fff in tfeat:\n",
    "    sys.stderr.write(\"Estimating model for \" + fff + \"\\n\" )\n",
    "    tmp_mod = fitNormGP(CN_data_covs, ['AGE','ICV'], fff)\n",
    "    tmpz    = feat2z(AD_data_covs, tmp_mod)\n",
    "    AD_data_ZGP.loc[:,fff] = tmpz"
   ]
  },
  {
   "cell_type": "code",
   "execution_count": null,
   "id": "121106d0",
   "metadata": {},
   "outputs": [],
   "source": [
    "LMCI_data_ZGPlow_hippo=LMCI_data_ZGP.loc[LMCI_data_ZGP['Hippocampus']<-1.63]\n",
    "LMCI_data_ZGPhigh_hippo=LMCI_data_ZGP.loc[LMCI_data_ZGP['Hippocampus']>=-1.63]\n",
    "\n",
    "km.fit(LMCI_data_ZGPlow_hippo['Years_bl'], LMCI_data_ZGPlow_hippo['Suvival'], label='LMCI low hippo')\n",
    "a1 = km.plot()\n",
    "\n",
    "# fit the model for 2nd cohort\n",
    "km.fit(LMCI_data_ZGPhigh_hippo['Years_bl'], LMCI_data_ZGPhigh_hippo['Suvival'], label='LMCI normal hippo')\n",
    "km.plot(ax=a1)"
   ]
  },
  {
   "cell_type": "code",
   "execution_count": null,
   "id": "f17120d8",
   "metadata": {},
   "outputs": [],
   "source": [
    "from lifelines.statistics import logrank_test\n",
    "results=logrank_test(LMCI_data_ZGPlow_hippo['Years_bl'],LMCI_data_ZGPhigh_hippo['Years_bl'],event_observed_A=LMCI_data_ZGPlow_hippo['Suvival'], event_observed_B=LMCI_data_ZGPhigh_hippo['Suvival'])\n",
    "results.print_summary()"
   ]
  },
  {
   "cell_type": "code",
   "execution_count": null,
   "id": "92aa70c8",
   "metadata": {},
   "outputs": [],
   "source": [
    "results.p_value"
   ]
  },
  {
   "cell_type": "code",
   "execution_count": null,
   "id": "9cd67c79",
   "metadata": {},
   "outputs": [],
   "source": [
    "AD_data_ZGPlow_hippo=AD_data_ZGP.loc[AD_data_ZGP['Hippocampus']<-1.63]\n",
    "AD_data_ZGPhigh_hippo=AD_data_ZGP.loc[AD_data_ZGP['Hippocampus']>=-1.63]\n",
    "\n",
    "km.fit(AD_data_ZGPlow_hippo['Years_bl'], AD_data_ZGPlow_hippo['Suvival'], label='AD low hippo')\n",
    "a1 = km.plot()\n",
    "\n",
    "# fit the model for 2nd cohort\n",
    "km.fit(AD_data_ZGPhigh_hippo['Years_bl'],AD_data_ZGPhigh_hippo['Suvival'], label='AD normal hippo')\n",
    "km.plot(ax=a1)"
   ]
  },
  {
   "cell_type": "code",
   "execution_count": null,
   "id": "f910d1fb",
   "metadata": {},
   "outputs": [],
   "source": [
    "results=logrank_test(AD_data_ZGPlow_hippo['Years_bl'],AD_data_ZGPhigh_hippo['Years_bl'],event_observed_A=AD_data_ZGPlow_hippo['Suvival'], event_observed_B=AD_data_ZGPhigh_hippo['Suvival'])\n",
    "results.print_summary()"
   ]
  },
  {
   "cell_type": "code",
   "execution_count": null,
   "id": "6bc0bfe1",
   "metadata": {},
   "outputs": [],
   "source": [
    "def get_best_cutoff(data_ZGP):\n",
    "    cutoff=0\n",
    "    p_val=0.9\n",
    "    final_cutoff=0\n",
    "    while cutoff>-3:\n",
    "        data_ZGPlow_hippo=data_ZGP.loc[data_ZGP['Hippocampus']<cutoff]\n",
    "        data_ZGPhigh_hippo=data_ZGP.loc[data_ZGP['Hippocampus']>=cutoff]\n",
    "\n",
    "        results=logrank_test(data_ZGPlow_hippo['Years_bl'],data_ZGPhigh_hippo['Years_bl'],event_observed_A=data_ZGPlow_hippo['Suvival'], event_observed_B=data_ZGPhigh_hippo['Suvival'])\n",
    "        current_p_val=results.p_value\n",
    "        if current_p_val<p_val:\n",
    "            p_val=current_p_val\n",
    "            final_cutoff=cutoff\n",
    "        cutoff=cutoff-0.3\n",
    "    return p_val, final_cutoff"
   ]
  },
  {
   "cell_type": "code",
   "execution_count": null,
   "id": "9e6c7478",
   "metadata": {},
   "outputs": [],
   "source": [
    "AD_p_val,AD_final_cutoff=get_best_cutoff(AD_data_ZGP)\n",
    "AD_p_val,AD_final_cutoff"
   ]
  },
  {
   "cell_type": "code",
   "execution_count": null,
   "id": "bd9c72b2",
   "metadata": {},
   "outputs": [],
   "source": []
  },
  {
   "cell_type": "code",
   "execution_count": null,
   "id": "c3e50992",
   "metadata": {},
   "outputs": [],
   "source": [
    "AD_data_ZGPlow_hippo=AD_data_ZGP.loc[AD_data_ZGP['Hippocampus']<AD_final_cutoff]\n",
    "AD_data_ZGPhigh_hippo=AD_data_ZGP.loc[AD_data_ZGP['Hippocampus']>=AD_final_cutoff]\n",
    "\n",
    "km.fit(AD_data_ZGPlow_hippo['Years_bl'], AD_data_ZGPlow_hippo['Suvival'], label='AD low hippo')\n",
    "a1 = km.plot()\n",
    "\n",
    "# fit the model for 2nd cohort\n",
    "km.fit(AD_data_ZGPhigh_hippo['Years_bl'],AD_data_ZGPhigh_hippo['Suvival'], label='AD normal hippo')\n",
    "km.plot(ax=a1)"
   ]
  },
  {
   "cell_type": "code",
   "execution_count": null,
   "id": "6e22c877",
   "metadata": {},
   "outputs": [],
   "source": [
    "LMCI_p_val,LMCI_final_cutoff=get_best_cutoff(LMCI_data_ZGP)\n",
    "LMCI_p_val,LMCI_final_cutoff"
   ]
  },
  {
   "cell_type": "code",
   "execution_count": null,
   "id": "e5d902d9",
   "metadata": {},
   "outputs": [],
   "source": [
    "LMCI_data_ZGPlow_hippo=LMCI_data_ZGP.loc[LMCI_data_ZGP['Hippocampus']<LMCI_final_cutoff]\n",
    "LMCI_data_ZGPhigh_hippo=LMCI_data_ZGP.loc[LMCI_data_ZGP['Hippocampus']>=LMCI_final_cutoff]\n",
    "\n",
    "km.fit(LMCI_data_ZGPlow_hippo['Years_bl'], LMCI_data_ZGPlow_hippo['Suvival'], label='LMCI low hippo')\n",
    "a1 = km.plot()\n",
    "\n",
    "# fit the model for 2nd cohort\n",
    "km.fit(LMCI_data_ZGPhigh_hippo['Years_bl'], LMCI_data_ZGPhigh_hippo['Suvival'], label='LMCI normal hippo')\n",
    "km.plot(ax=a1)"
   ]
  },
  {
   "cell_type": "code",
   "execution_count": null,
   "id": "0e3fcf6a",
   "metadata": {},
   "outputs": [],
   "source": []
  }
 ],
 "metadata": {
  "kernelspec": {
   "display_name": "Python 3 (ipykernel)",
   "language": "python",
   "name": "python3"
  },
  "language_info": {
   "codemirror_mode": {
    "name": "ipython",
    "version": 3
   },
   "file_extension": ".py",
   "mimetype": "text/x-python",
   "name": "python",
   "nbconvert_exporter": "python",
   "pygments_lexer": "ipython3",
   "version": "3.9.5"
  }
 },
 "nbformat": 4,
 "nbformat_minor": 5
}
